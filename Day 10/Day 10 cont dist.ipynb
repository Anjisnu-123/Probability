{
 "cells": [
  {
   "cell_type": "code",
   "execution_count": 52,
   "id": "bd76935a-64e1-465c-8978-40cc500945c6",
   "metadata": {},
   "outputs": [],
   "source": [
    "import numpy as np\n",
    "import pandas as pd\n",
    "import math\n",
    "from scipy import stats"
   ]
  },
  {
   "cell_type": "markdown",
   "id": "45f0d10b-bb8c-417e-89bf-71ebea3861bc",
   "metadata": {
    "jp-MarkdownHeadingCollapsed": true
   },
   "source": [
    "## 1. A company experiences server downtimes randomly. On average, the server experiences 2 downtimes per day. The company’s goal is to predict the number of downtimes in a given 12-hour window. Identify the appropriate distribution for modeling the number of downtimes, hence Calculate the probability that there will be exactly 3 downtimes in a 12-hour window. Find the expected number of downtimes in a 12-hour window."
   ]
  },
  {
   "cell_type": "code",
   "execution_count": 53,
   "id": "49d762f3-7f47-4fd8-85d8-8dc060953a23",
   "metadata": {},
   "outputs": [
    {
     "name": "stdout",
     "output_type": "stream",
     "text": [
      "Probability of 3 downtimes in 12 hours: 0.06131324019524039\n",
      "Expected number of downtimes in 12 hours: 1\n"
     ]
    }
   ],
   "source": [
    "## Poisson\n",
    "\n",
    "lambda_12_hours = 1  # (2_dt*12/24)\n",
    "k = 3 \n",
    "\n",
    "\n",
    "probability_k = stats.poisson.pmf(k, lambda_12_hours)\n",
    "\n",
    "expected_downtimes = lambda_12_hours\n",
    "\n",
    "# Output the results\n",
    "print(f\"Probability of {k} downtimes in 12 hours: {probability_k}\")\n",
    "print(f\"Expected number of downtimes in 12 hours: {expected_downtimes}\")\n"
   ]
  },
  {
   "cell_type": "markdown",
   "id": "f0fd24eb-778a-44ab-972a-6ce92c43e1bc",
   "metadata": {
    "jp-MarkdownHeadingCollapsed": true
   },
   "source": [
    "## 2. A logistics company monitors the time it takes to deliver packages. The time to deliver each package varies, but the mean delivery time is 2 hours with an unknown distribution. The company wants to assess the likelihood of a package being delivered within the next hour. Determine the distribution that best models this situation and hence compute the probability that a package will be delivered in less than 1 hour."
   ]
  },
  {
   "cell_type": "code",
   "execution_count": 54,
   "id": "3c0e50cc-3476-46dd-b984-0d62c9b5ea20",
   "metadata": {},
   "outputs": [
    {
     "data": {
      "text/plain": [
       "0.3934693402873666"
      ]
     },
     "execution_count": 54,
     "metadata": {},
     "output_type": "execute_result"
    }
   ],
   "source": [
    "# Exponential model\n",
    "mean=2\n",
    "lamb=1/mean\n",
    "t=1\n",
    "mean_delivery_time=2\n",
    "probability_less_than_1_hour = stats.expon.cdf(t, scale=mean_delivery_time)\n",
    "probability_less_than_1_hour"
   ]
  },
  {
   "cell_type": "markdown",
   "id": "6ed25d02-95df-4aa3-b735-e41437823bc4",
   "metadata": {
    "jp-MarkdownHeadingCollapsed": true
   },
   "source": [
    "## 3. A store tracks how many times a customer buys a product in a year. Each customer purchases the product with a probability of 0.3 each time they visit the store. On average, customers visit the store 20 times per year. Identify the distribution for the number of purchases in a year, hence calculate the probability that a customer makes exactly 6 purchases in a year. Find the probability that a customer makes at least 3 purchases."
   ]
  },
  {
   "cell_type": "code",
   "execution_count": 55,
   "id": "6c9811f9-33c7-49b7-8af3-7c45ddb05d2d",
   "metadata": {},
   "outputs": [
    {
     "name": "stdout",
     "output_type": "stream",
     "text": [
      "0.9645168677015313\n",
      "prob_of_exactly_6: 0.1916389827534427\n"
     ]
    }
   ],
   "source": [
    "# Binomial\n",
    "trail=20\n",
    "p=0.3\n",
    "\n",
    "exactly_6=6\n",
    "prob_of_atleast_3=0\n",
    "for k in range(3):\n",
    "    prob_of_atleast_3+=stats.binom.pmf(k,trail,p)\n",
    "print(1-prob_of_atleast_3)\n",
    "\n",
    "prob_of_exactly_6=stats.binom.pmf(6,trail,p)\n",
    "print(f\"prob_of_exactly_6: {prob_of_exactly_6}\")"
   ]
  },
  {
   "cell_type": "markdown",
   "id": "b5379c96-ac26-4eb4-9aa8-720d4f1aa683",
   "metadata": {
    "jp-MarkdownHeadingCollapsed": true
   },
   "source": [
    "## 4. The number of calls a bank call center receives varies by the hour. On average, the center receives 15 calls per hour. The manager wants to know the probability of receiving a certain number of calls in the next 30 minutes. Determine the correct distribution for the number of calls received, hence compute the probability that the center will receive exactly 7 calls in the next 30 minutes. Find the probability that the center will receive fewer than 10 calls in the next 30 minutes."
   ]
  },
  {
   "cell_type": "code",
   "execution_count": 56,
   "id": "46243d2e-2d5d-4b54-a3ba-d9eeda6b4fcc",
   "metadata": {},
   "outputs": [
    {
     "name": "stdout",
     "output_type": "stream",
     "text": [
      "0.14648383216413594\n",
      "0.7764076130197146\n"
     ]
    }
   ],
   "source": [
    "## poisson\n",
    "lamda_30_min=15/2\n",
    "exactly_7=stats.poisson.pmf(7,lamda_30_min)\n",
    "print(exactly_7)\n",
    "\n",
    "less_than_10=stats.poisson.cdf(9,lamda_30_min)\n",
    "print(less_than_10)"
   ]
  },
  {
   "cell_type": "markdown",
   "id": "6a0f2859-a81b-4ad3-8a94-85d0a5c645b5",
   "metadata": {},
   "source": [
    "## 5. A company runs a series of independent marketing campaigns, where each campaign has a 10% success rate. The company will stop running campaigns once 5 campaigns have been successful. Identify the appropriate distribution to model the number of campaigns needed to achieve 5 successes and calculate the probability that it will take exactly 12 campaigns to achieve 5 successes. Find the expected number of campaigns required to achieve 5 successes."
   ]
  },
  {
   "cell_type": "code",
   "execution_count": 82,
   "id": "8612da70-cdad-4afb-9baa-9a97149dc342",
   "metadata": {},
   "outputs": [
    {
     "name": "stdout",
     "output_type": "stream",
     "text": [
      "0.0015783797700000015\n",
      "50.0\n"
     ]
    }
   ],
   "source": [
    "## Neg binomial\n",
    "N=5\n",
    "succ=0.1\n",
    "fail=1-0.1\n",
    "\n",
    "for_exactly_12=stats.nbinom.pmf(12-5,N,succ)\n",
    "print(for_exactly_12)\n",
    "expected_campaigns = N/succ \n",
    "print(expected_campaigns)"
   ]
  },
  {
   "cell_type": "markdown",
   "id": "96968ef6-82ba-450c-a6b8-bd508e4fe21e",
   "metadata": {},
   "source": [
    "## 6. A manufacturing company monitors the lifespan of its machines. The lifespan of a machine is known to follow a continuous probability distribution with an average lifespan of 8 years. They want to calculate the probability of a machine lasting more than 10 years. Identify the appropriate distribution for modeling the machine's lifespan and compute the probability that a machine lasts more than 10 years. "
   ]
  },
  {
   "cell_type": "code",
   "execution_count": 79,
   "id": "fdd55225-d889-41ba-a21c-0f0361cf2e61",
   "metadata": {},
   "outputs": [
    {
     "name": "stdout",
     "output_type": "stream",
     "text": [
      "machine lasts more than 10 years: 0.2865047968601901\n"
     ]
    }
   ],
   "source": [
    "\n",
    "mean_lifespan = 8  \n",
    "lambda_value = 1 / mean_lifespan \n",
    "t = 10  \n",
    "probability_more_than_10_years = math.exp(-lambda_value * t)\n",
    "\n",
    "# Output the result\n",
    "print(f\"machine lasts more than 10 years: {probability_more_than_10_years}\")\n"
   ]
  },
  {
   "cell_type": "markdown",
   "id": "5b3b0726-8485-410f-85bf-7e55377f96bd",
   "metadata": {},
   "source": [
    "## 7. The number of cars passing through a particular intersection is monitored. It is known that the number of cars passing through in any given hour follows a distribution with a mean of 60 cars per hour. The city planner wants to estimate the probability of seeing exactly 80 cars in the next hour. Identify the distribution modeling this scenario to compute the probability of seeing exactly 80 cars in an hour. Find the probability of seeing at least 50 cars in the next hour."
   ]
  },
  {
   "cell_type": "code",
   "execution_count": 64,
   "id": "b56bc8d3-687a-4880-bad8-a262c3ca9fd2",
   "metadata": {},
   "outputs": [
    {
     "name": "stdout",
     "output_type": "stream",
     "text": [
      "Exactly 80 : 0.002186267979150654\n",
      "Atleast 50 : 0.9155933189063081\n"
     ]
    }
   ],
   "source": [
    "lambda_val=60\n",
    "\n",
    "exactly_80=stats.poisson.pmf(80,lambda_val)\n",
    "exactly_80\n",
    "print(f\"Exactly 80 : {exactly_80}\")\n",
    "ateast_50=1-stats.poisson.cdf(49,lambda_val)\n",
    "print(f\"Atleast 50 : {ateast_50}\")"
   ]
  },
  {
   "cell_type": "markdown",
   "id": "2443f2d3-5898-4db3-9fce-19e208427037",
   "metadata": {},
   "source": [
    " ## 8. A factory has a large machine that consists of many small components. Each component has a 5% chance of failing during a week. The machine can function as long as less than 3 components fail. There are 50 components in total. Determine the appropriate distribution for the number of component failures and compute the probability that exactly 2 components fail during a week. Find the probability that the machine will continue functioning (i.e., fewer than 3 components fail)."
   ]
  },
  {
   "cell_type": "code",
   "execution_count": 67,
   "id": "e6503aa7-e7d3-4d93-8788-38c71230e63b",
   "metadata": {},
   "outputs": [
    {
     "name": "stdout",
     "output_type": "stream",
     "text": [
      "exactly 2 components fail: 0.2611013703988197\n",
      "machine continues functioning: 0.5405331227195149\n"
     ]
    }
   ],
   "source": [
    "\n",
    "n = 50          \n",
    "p = 0.05       \n",
    "\n",
    "\n",
    "k = 2\n",
    "prob_exactly_2 = stats.binom.pmf(k, n, p)\n",
    "\n",
    "\n",
    "prob_less_than_3 = stats.binom.cdf(2, n, p)\n",
    "\n",
    "print(f\"exactly 2 components fail: {prob_exactly_2}\")\n",
    "print(f\"machine continues functioning: {prob_less_than_3}\")\n"
   ]
  },
  {
   "cell_type": "markdown",
   "id": "5edeae1f-683e-4727-bf47-f51b94f58c9e",
   "metadata": {},
   "source": [
    "## 9. A website receives traffic from various sources. On average, 3 visitors land on the website every minute. The website administrator wants to estimate the likelihood of receiving more than 10 visitors in the next 2 minutes. Identify the distribution modeling the number of visitors. Compute the probability of receiving more than 10 visitors in 2 minutes. Find the probability that the website will receive fewer than 5 visitors in 1 minute."
   ]
  },
  {
   "cell_type": "code",
   "execution_count": 72,
   "id": "7d9fb08a-f5c0-4d37-8fc5-ecc506f69529",
   "metadata": {},
   "outputs": [
    {
     "name": "stdout",
     "output_type": "stream",
     "text": [
      "0.042620923582538106\n"
     ]
    },
    {
     "data": {
      "text/plain": [
       "0.8152632445237722"
      ]
     },
     "execution_count": 72,
     "metadata": {},
     "output_type": "execute_result"
    }
   ],
   "source": [
    "# poisson\n",
    "\n",
    "lambda_val=2*3\n",
    "n=10\n",
    "ans=1-stats.poisson.cdf(n,lambda_val)\n",
    "print(ans)\n",
    "lambda_new=3\n",
    "n=4\n",
    "fewer_than_6=stats.poisson.cdf(n,lambda_new)\n",
    "fewer_than_6"
   ]
  },
  {
   "cell_type": "markdown",
   "id": "0dfd65b0-657c-40f2-a4b0-58c22368f730",
   "metadata": {},
   "source": [
    "## In a research lab, an experiment is repeated multiple times until 2 successes are observed. Each experiment has a success probability of 0.2. The researchers want to estimate how many experiments they will need to perform. Determine the distribution modeling the number of experiments and calculate the probability that exactly 7 experiments are needed to observe 2 successes. Find the expected number of experiments needed to observe 2 successes."
   ]
  },
  {
   "cell_type": "code",
   "execution_count": 74,
   "id": "6fb35bf7-8d16-437b-8258-418bd82a66b7",
   "metadata": {},
   "outputs": [
    {
     "data": {
      "text/plain": [
       "0.06710886399999998"
      ]
     },
     "execution_count": 74,
     "metadata": {},
     "output_type": "execute_result"
    }
   ],
   "source": [
    "ans=stats.nbinom.pmf(7,2,0.2)\n",
    "ans"
   ]
  },
  {
   "cell_type": "code",
   "execution_count": null,
   "id": "a63a2fbd-0b13-41c9-80c4-dcd5c788b866",
   "metadata": {},
   "outputs": [],
   "source": []
  }
 ],
 "metadata": {
  "kernelspec": {
   "display_name": "Python 3 (ipykernel)",
   "language": "python",
   "name": "python3"
  },
  "language_info": {
   "codemirror_mode": {
    "name": "ipython",
    "version": 3
   },
   "file_extension": ".py",
   "mimetype": "text/x-python",
   "name": "python",
   "nbconvert_exporter": "python",
   "pygments_lexer": "ipython3",
   "version": "3.12.4"
  }
 },
 "nbformat": 4,
 "nbformat_minor": 5
}
