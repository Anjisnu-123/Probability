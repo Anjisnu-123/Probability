{
 "cells": [
  {
   "cell_type": "code",
   "execution_count": 4,
   "id": "c9073bc2-c436-4922-9aa2-a845a589c122",
   "metadata": {},
   "outputs": [
    {
     "ename": "ModuleNotFoundError",
     "evalue": "No module named 'numpy'",
     "output_type": "error",
     "traceback": [
      "\u001b[0;31m---------------------------------------------------------------------------\u001b[0m",
      "\u001b[0;31mModuleNotFoundError\u001b[0m                       Traceback (most recent call last)",
      "Cell \u001b[0;32mIn[4], line 2\u001b[0m\n\u001b[1;32m      1\u001b[0m \u001b[38;5;66;03m# import pandas as pd\u001b[39;00m\n\u001b[0;32m----> 2\u001b[0m \u001b[38;5;28;01mimport\u001b[39;00m \u001b[38;5;21;01mnumpy\u001b[39;00m \u001b[38;5;28;01mas\u001b[39;00m \u001b[38;5;21;01mnp\u001b[39;00m\n",
      "\u001b[0;31mModuleNotFoundError\u001b[0m: No module named 'numpy'"
     ]
    }
   ],
   "source": [
    "import pandas as pd\n",
    "import numpy as np"
   ]
  },
  {
   "cell_type": "code",
   "execution_count": 2,
   "id": "6baf4ae0",
   "metadata": {},
   "outputs": [
    {
     "name": "stdout",
     "output_type": "stream",
     "text": [
      "Requirement already satisfied: pandas in /Users/it022304/anaconda3/lib/python3.12/site-packages (2.2.2)\n",
      "Requirement already satisfied: numpy>=1.26.0 in /Users/it022304/anaconda3/lib/python3.12/site-packages (from pandas) (1.26.4)\n",
      "Requirement already satisfied: python-dateutil>=2.8.2 in /Users/it022304/anaconda3/lib/python3.12/site-packages (from pandas) (2.9.0.post0)\n",
      "Requirement already satisfied: pytz>=2020.1 in /Users/it022304/anaconda3/lib/python3.12/site-packages (from pandas) (2024.1)\n",
      "Requirement already satisfied: tzdata>=2022.7 in /Users/it022304/anaconda3/lib/python3.12/site-packages (from pandas) (2023.3)\n",
      "Requirement already satisfied: six>=1.5 in /Users/it022304/anaconda3/lib/python3.12/site-packages (from python-dateutil>=2.8.2->pandas) (1.16.0)\n"
     ]
    }
   ],
   "source": [
    "!pip install pandas"
   ]
  },
  {
   "cell_type": "markdown",
   "id": "3bba678b-31bd-49f0-955e-2b0ad99b7ab2",
   "metadata": {},
   "source": [
    "## Given the data in weather.csv, use the total probability theorem to calculate the probability that the humidity exceeds 75%, given the rainy and non-rainy days."
   ]
  },
  {
   "cell_type": "code",
   "execution_count": 59,
   "id": "fe338cc6-582f-42d3-8627-fff18922fce8",
   "metadata": {},
   "outputs": [],
   "source": [
    "df=pd.read_csv('weather.csv')"
   ]
  },
  {
   "cell_type": "code",
   "execution_count": 60,
   "id": "f4d4ffeb-7266-4725-8a89-f11a589f237e",
   "metadata": {},
   "outputs": [
    {
     "data": {
      "text/html": [
       "<div>\n",
       "<style scoped>\n",
       "    .dataframe tbody tr th:only-of-type {\n",
       "        vertical-align: middle;\n",
       "    }\n",
       "\n",
       "    .dataframe tbody tr th {\n",
       "        vertical-align: top;\n",
       "    }\n",
       "\n",
       "    .dataframe thead th {\n",
       "        text-align: right;\n",
       "    }\n",
       "</style>\n",
       "<table border=\"1\" class=\"dataframe\">\n",
       "  <thead>\n",
       "    <tr style=\"text-align: right;\">\n",
       "      <th></th>\n",
       "      <th>day</th>\n",
       "      <th>temperature</th>\n",
       "      <th>humidity</th>\n",
       "      <th>wind_speed</th>\n",
       "      <th>rainy_day</th>\n",
       "    </tr>\n",
       "  </thead>\n",
       "  <tbody>\n",
       "    <tr>\n",
       "      <th>0</th>\n",
       "      <td>1</td>\n",
       "      <td>36.1</td>\n",
       "      <td>50</td>\n",
       "      <td>17.7</td>\n",
       "      <td>0</td>\n",
       "    </tr>\n",
       "    <tr>\n",
       "      <th>1</th>\n",
       "      <td>2</td>\n",
       "      <td>-3.4</td>\n",
       "      <td>60</td>\n",
       "      <td>7.4</td>\n",
       "      <td>0</td>\n",
       "    </tr>\n",
       "    <tr>\n",
       "      <th>2</th>\n",
       "      <td>3</td>\n",
       "      <td>11.0</td>\n",
       "      <td>36</td>\n",
       "      <td>0.6</td>\n",
       "      <td>1</td>\n",
       "    </tr>\n",
       "    <tr>\n",
       "      <th>3</th>\n",
       "      <td>4</td>\n",
       "      <td>-1.2</td>\n",
       "      <td>23</td>\n",
       "      <td>13.9</td>\n",
       "      <td>0</td>\n",
       "    </tr>\n",
       "    <tr>\n",
       "      <th>4</th>\n",
       "      <td>5</td>\n",
       "      <td>36.9</td>\n",
       "      <td>23</td>\n",
       "      <td>8.3</td>\n",
       "      <td>1</td>\n",
       "    </tr>\n",
       "  </tbody>\n",
       "</table>\n",
       "</div>"
      ],
      "text/plain": [
       "   day  temperature  humidity  wind_speed  rainy_day\n",
       "0    1         36.1        50        17.7          0\n",
       "1    2         -3.4        60         7.4          0\n",
       "2    3         11.0        36         0.6          1\n",
       "3    4         -1.2        23        13.9          0\n",
       "4    5         36.9        23         8.3          1"
      ]
     },
     "execution_count": 60,
     "metadata": {},
     "output_type": "execute_result"
    }
   ],
   "source": [
    "df.head()"
   ]
  },
  {
   "cell_type": "code",
   "execution_count": 61,
   "id": "2088bf2d-a180-4146-a4fb-71677a2c3a2f",
   "metadata": {},
   "outputs": [
    {
     "name": "stdout",
     "output_type": "stream",
     "text": [
      "Overall probability that humidity exceeds 75%: 0.32602739726027397\n"
     ]
    }
   ],
   "source": [
    "\n",
    "total_days = len(df)\n",
    "rainy_days = df['rainy_day'].sum()\n",
    "non_rainy_days = total_days - rainy_days\n",
    "\n",
    "\n",
    "humidity_exceeds_75 = df['humidity'] > 75\n",
    "\n",
    "rainy_with_high_humidity = humidity_exceeds_75[df['rainy_day'] == 1].sum()\n",
    "non_rainy_with_high_humidity = humidity_exceeds_75[df['rainy_day'] == 0].sum()\n",
    "\n",
    "\n",
    "P_Humidity_given_Rainy = rainy_with_high_humidity / rainy_days\n",
    "P_Humidity_given_NonRainy = non_rainy_with_high_humidity / non_rainy_days\n",
    "\n",
    "\n",
    "P_Rainy = rainy_days / total_days\n",
    "P_NonRainy = non_rainy_days / total_days\n",
    "\n",
    "P_Humidity_exceeds_75 = (P_Humidity_given_Rainy * P_Rainy) + (P_Humidity_given_NonRainy * P_NonRainy)\n",
    "\n",
    "print(f\"Overall probability that humidity exceeds 75%: {P_Humidity_exceeds_75}\")\n"
   ]
  },
  {
   "cell_type": "code",
   "execution_count": 62,
   "id": "a95d79c3-cbaf-4abc-86d7-06bc9734a8b4",
   "metadata": {},
   "outputs": [
    {
     "data": {
      "text/plain": [
       "0.37423312883435583"
      ]
     },
     "execution_count": 62,
     "metadata": {},
     "output_type": "execute_result"
    }
   ],
   "source": [
    "P_Humidity_given_Rainy"
   ]
  },
  {
   "cell_type": "code",
   "execution_count": 63,
   "id": "f4dd2e85-7b7a-46c8-8be0-44d785d1f725",
   "metadata": {},
   "outputs": [
    {
     "data": {
      "text/plain": [
       "0.4465753424657534"
      ]
     },
     "execution_count": 63,
     "metadata": {},
     "output_type": "execute_result"
    }
   ],
   "source": [
    "P_Rainy"
   ]
  },
  {
   "cell_type": "markdown",
   "id": "70fb2818-5875-4242-8e36-ea31c4c2b9c2",
   "metadata": {},
   "source": [
    "## From the weather.csv dataset, if the humidity exceeds 75%, what is the probability that it was a rainy day?"
   ]
  },
  {
   "cell_type": "code",
   "execution_count": 64,
   "id": "c09b47cb-318d-44dd-8a3c-c1377d486d0d",
   "metadata": {},
   "outputs": [],
   "source": [
    "humidity_exceeds_75=df[(df['humidity']>75) & (df['rainy_day']==1)].shape[0]"
   ]
  },
  {
   "cell_type": "code",
   "execution_count": 65,
   "id": "6e400545-f0fe-4a8a-9250-8a8b85ef1393",
   "metadata": {},
   "outputs": [
    {
     "data": {
      "text/plain": [
       "61"
      ]
     },
     "execution_count": 65,
     "metadata": {},
     "output_type": "execute_result"
    }
   ],
   "source": [
    "humidity_exceeds_75"
   ]
  },
  {
   "cell_type": "code",
   "execution_count": 66,
   "id": "7c7236d6-1798-4edb-b445-a7b491df8f3e",
   "metadata": {},
   "outputs": [],
   "source": [
    "humidity_exceeds_75_non_rainy=df[(df['humidity']>75) & (df['rainy_day']==0)].shape[0]"
   ]
  },
  {
   "cell_type": "code",
   "execution_count": 67,
   "id": "98ba26a9-974f-4b7f-a6c2-1f00603aa3a8",
   "metadata": {},
   "outputs": [
    {
     "data": {
      "text/plain": [
       "58"
      ]
     },
     "execution_count": 67,
     "metadata": {},
     "output_type": "execute_result"
    }
   ],
   "source": [
    "humidity_exceeds_75_non_rainy"
   ]
  },
  {
   "cell_type": "code",
   "execution_count": 68,
   "id": "fa48141d-0a00-4f0a-8ad1-bb99d2413dae",
   "metadata": {},
   "outputs": [],
   "source": [
    "total_prob=humidity_exceeds_75/(humidity_exceeds_75+humidity_exceeds_75_non_rainy)"
   ]
  },
  {
   "cell_type": "code",
   "execution_count": 69,
   "id": "30d8263c-c2d7-4de1-831a-1a28506463d3",
   "metadata": {},
   "outputs": [
    {
     "data": {
      "text/plain": [
       "0.5126050420168067"
      ]
     },
     "execution_count": 69,
     "metadata": {},
     "output_type": "execute_result"
    }
   ],
   "source": [
    "total_prob"
   ]
  },
  {
   "cell_type": "markdown",
   "id": "6c38f00b-f247-4eb4-aee0-5007837d1ba7",
   "metadata": {},
   "source": [
    "## In the weather.csv dataset, The probability of rain is P(rain) = 0.3. If the probability of high humidity given it rained is 0.8, and the probability of high humidity when it did not rain is 0.5, calculate the posterior probability that it rained given high humidity using Bayes' theorem"
   ]
  },
  {
   "cell_type": "code",
   "execution_count": 70,
   "id": "b72b47ca-c35a-48e4-bc9b-999d10b94df9",
   "metadata": {},
   "outputs": [
    {
     "data": {
      "text/plain": [
       "0.4067796610169492"
      ]
     },
     "execution_count": 70,
     "metadata": {},
     "output_type": "execute_result"
    }
   ],
   "source": [
    "prob_high_given_rain=0.8\n",
    "prob_rain=0.3\n",
    "prob_high_not_rain=0.5\n",
    "prob_high_hum=(prob_high_given_rain*prob_rain)+(prob_high_not_rain*(1-prob_rain))\n",
    "\n",
    "prob_rain_given_high=(prob_high_given_rain*prob_rain)/prob_high_hum\n",
    "prob_rain_given_high"
   ]
  },
  {
   "cell_type": "markdown",
   "id": "77630137-6e88-4864-b64b-5e0588a59c34",
   "metadata": {},
   "source": [
    "## Given the weather.csv dataset, calculate the joint probability that the temperature exceeds 30°C and it rained on the same day."
   ]
  },
  {
   "cell_type": "code",
   "execution_count": 71,
   "id": "b99c0673-2f8b-4660-b519-5f7e309f6c53",
   "metadata": {},
   "outputs": [
    {
     "data": {
      "text/plain": [
       "0.0958904109589041"
      ]
     },
     "execution_count": 71,
     "metadata": {},
     "output_type": "execute_result"
    }
   ],
   "source": [
    "joint_prob=df[(df['temperature']>30) & (df['rainy_day']==1)].shape[0]\n",
    "joint_prob/len(df)"
   ]
  },
  {
   "cell_type": "markdown",
   "id": "deb766c6-d893-4f49-8a7b-df987975ffea",
   "metadata": {},
   "source": [
    " ## check whether the events \"high wind speed\" (wind speed > 15 km/h) and \"rainy day\" are independent."
   ]
  },
  {
   "cell_type": "code",
   "execution_count": 72,
   "id": "47c0816c-b8fd-4ea9-aeac-17624e0138a9",
   "metadata": {},
   "outputs": [],
   "source": [
    "intersection_wind_rainy=df[(df['wind_speed']>15) & (df['rainy_day']==1)].shape[0]\n",
    "prob_high_wind=df[df['wind_speed']>15].shape[0]/len(df)\n",
    "prob_rainy=df[df['rainy_day']==1].shape[0]/len(df)"
   ]
  },
  {
   "cell_type": "code",
   "execution_count": 73,
   "id": "db68d479-3c29-4469-b837-21e4008d77b8",
   "metadata": {},
   "outputs": [
    {
     "data": {
      "text/plain": [
       "35"
      ]
     },
     "execution_count": 73,
     "metadata": {},
     "output_type": "execute_result"
    }
   ],
   "source": [
    "intersection_wind_rainy"
   ]
  },
  {
   "cell_type": "code",
   "execution_count": 74,
   "id": "ccd0a057-4f8d-4848-84e4-0bd0775a5090",
   "metadata": {},
   "outputs": [
    {
     "name": "stdout",
     "output_type": "stream",
     "text": [
      "Dep\n"
     ]
    }
   ],
   "source": [
    "if (prob_rainy*prob_high_wind)==intersection_wind_rainy:\n",
    "    print(\"ind\")\n",
    "else:\n",
    "    print(\"Dep\")"
   ]
  },
  {
   "cell_type": "markdown",
   "id": "10b29538-29a4-4b17-a0cb-1b41491887b7",
   "metadata": {},
   "source": [
    "## IN the weather.csv dataset, are the events \"high humidity\" (humidity > 75%) and \"rainy day\" dependent? Calculate their joint probability and compare it with their product of marginal probabilities."
   ]
  },
  {
   "cell_type": "code",
   "execution_count": 75,
   "id": "9f93c18c-afd9-4192-8d72-3772ca5ca540",
   "metadata": {},
   "outputs": [],
   "source": [
    "# same as earlier q.no 1"
   ]
  },
  {
   "cell_type": "markdown",
   "id": "44844ee8-3a1b-4f97-97c6-3fc1c35ac785",
   "metadata": {},
   "source": [
    "## If in weather.csv dataset, if the probability of high temperature (temperature > 30°C) is 0.2 and the probability of rain given high temperature is 0.4, what is the probability that the temperature was high given that it rained?"
   ]
  },
  {
   "cell_type": "code",
   "execution_count": 76,
   "id": "44cc161d-7ccd-4a32-8d0c-8d94e49be4db",
   "metadata": {},
   "outputs": [
    {
     "name": "stdout",
     "output_type": "stream",
     "text": [
      "0.4465753424657534\n"
     ]
    }
   ],
   "source": [
    "prob_of_rain=df[(df['rainy_day']==1)].shape[0]/len(df)\n",
    "prob_r_given_temp=0.4\n",
    "prob_temp=0.2\n",
    "prob_temp_given_rain=(prob_r_given_temp*prob_temp)/prob_of_rain\n",
    "prob_temp_given_rain\n",
    "print(prob_of_rain)\n"
   ]
  },
  {
   "cell_type": "markdown",
   "id": "b6230550-e5fe-4400-97dd-d6d86d1505f9",
   "metadata": {},
   "source": [
    "## From weather.csv dataset, compute the marginal probability that the temperature exceeds 30°C on any given day."
   ]
  },
  {
   "cell_type": "code",
   "execution_count": 77,
   "id": "517773f6-678a-4c5c-8a04-de4e11b0acf5",
   "metadata": {},
   "outputs": [
    {
     "data": {
      "text/plain": [
       "0.2054794520547945"
      ]
     },
     "execution_count": 77,
     "metadata": {},
     "output_type": "execute_result"
    }
   ],
   "source": [
    "prob_temp_greater_30=df[df['temperature']>30].shape[0]/len(df)\n",
    "prob_temp_greater_30"
   ]
  },
  {
   "cell_type": "markdown",
   "id": "e5295cd6-dd2c-4d11-8dd6-3607c08fc13d",
   "metadata": {},
   "source": [
    "## Assume weather.csv dataset divides days into three categories based on wind speed: low (< 10 km/h), medium(10-20 km/h) , and high(> 20 km/h). Use the total probability theorem to calculate the probability of rain, given low, medium, and high wind speeds."
   ]
  },
  {
   "cell_type": "code",
   "execution_count": 78,
   "id": "3947420c-4ba0-4af7-be1b-a50493f4769a",
   "metadata": {},
   "outputs": [
    {
     "data": {
      "text/plain": [
       "0.2219178082191781"
      ]
     },
     "execution_count": 78,
     "metadata": {},
     "output_type": "execute_result"
    }
   ],
   "source": [
    "rain_low_wind_speed=df[(df['wind_speed']<10) & (df['rainy_day']==1)].shape[0]\n",
    "rain_medium_wind_speed=df[(df['wind_speed']<=10) & (df['wind_speed']>=20) & (df['rainy_day']==1)].shape[0]\n",
    "rain_high_wind_speed=df[(df['wind_speed']>20) & (df['rainy_day']==1)].shape[0]\n",
    "total_prob=(rain_low_wind_speed+rain_medium_wind_speed+rain_high_wind_speed)/len(df)\n",
    "total_prob\n"
   ]
  },
  {
   "cell_type": "markdown",
   "id": "cc8bcf3a-943c-4d65-82d3-3574310906d8",
   "metadata": {},
   "source": [
    "## In weather.csv dataset, what is the probability of rain given both high humidity (humidity > 75%) and low temperature (temperature < 10°C)?"
   ]
  },
  {
   "cell_type": "code",
   "execution_count": 79,
   "id": "3f101f4a-61f0-41c8-8ec5-990e4b89885c",
   "metadata": {},
   "outputs": [
    {
     "data": {
      "text/plain": [
       "0.5111111111111111"
      ]
     },
     "execution_count": 79,
     "metadata": {},
     "output_type": "execute_result"
    }
   ],
   "source": [
    "prob_of_rain_given=df[(df['rainy_day']==1) & (df['humidity']>75) & (df['temperature']<10)].shape[0]\n",
    "prob_of_both=df[(df['humidity']>75) & (df['temperature']<10)].shape[0]\n",
    "prob_of_rain_given/prob_of_both"
   ]
  },
  {
   "cell_type": "markdown",
   "id": "96fd76d5-835c-4148-94f2-5e0a7d3a32ac",
   "metadata": {},
   "source": [
    "## 12. In weather.csv dataset, if the weather forecast predicts a 70% chance of rain, and the observed humidity indicates a 90% chance of rain, update the rain probability using Bayes’ theorem."
   ]
  },
  {
   "cell_type": "code",
   "execution_count": 92,
   "id": "eeb14ed2-abac-4346-81d8-ad228658f8ef",
   "metadata": {},
   "outputs": [],
   "source": [
    "prob_humidity_given_rain=0.9\n",
    "prob_rain=0.7\n",
    "prob_high_humidity=df[(df['humidity']>75)].shape[0]/len(df)\n"
   ]
  },
  {
   "cell_type": "markdown",
   "id": "2886318a-b095-4689-8a02-0c620cc1aeb1",
   "metadata": {},
   "source": [
    "## Given the dataset weather.csv, divide the days based on wind speed categories (low, medium, high) as per question no. 10.Use the total probability theorem to compute the overall probability of rain given these wind speed categories."
   ]
  },
  {
   "cell_type": "code",
   "execution_count": null,
   "id": "3d9072e6-baf4-4836-9bdc-5edcf3056652",
   "metadata": {},
   "outputs": [],
   "source": []
  },
  {
   "cell_type": "markdown",
   "id": "3f456def-9849-44aa-9723-daf679ea2432",
   "metadata": {},
   "source": [
    "## Based on weather.csv dataset, check whether the events \"high wind speed\" (wind speed > 15 km/h) and \"rain\" are independent using conditional probability."
   ]
  },
  {
   "cell_type": "code",
   "execution_count": 80,
   "id": "621135ae-dd4c-4ee8-8b08-b76060677139",
   "metadata": {},
   "outputs": [],
   "source": [
    "## did same qsn in 5"
   ]
  },
  {
   "cell_type": "markdown",
   "id": "7dae4351-1c59-4a26-88f3-f7ffcfd54f12",
   "metadata": {},
   "source": [
    "## From weather.csv dataset, compute the joint probability of high humidity (humidity > 75%) and high temperature (temperature > 30°C). Are these events independent?"
   ]
  },
  {
   "cell_type": "code",
   "execution_count": 81,
   "id": "63bd7848-8bd2-431f-83c0-9a9dd550297c",
   "metadata": {},
   "outputs": [
    {
     "data": {
      "text/plain": [
       "False"
      ]
     },
     "execution_count": 81,
     "metadata": {},
     "output_type": "execute_result"
    }
   ],
   "source": [
    "joint_prob_humidity_hightemp=df[(df['humidity']>75)&(df['temperature']>30)].shape[0]/len(df)\n",
    "joint_prob_humidity=df[(df['humidity']>75)].shape[0]\n",
    "joint_prob_temp=df[(df['temperature']>30)].shape[0]\n",
    "(joint_prob_humidity_hightemp==(joint_prob_humidity*joint_prob_temp))"
   ]
  },
  {
   "cell_type": "markdown",
   "id": "c6d5b3a0-9807-4034-b212-2d66a971b606",
   "metadata": {},
   "source": [
    "## 16. what is the probability of rain, given that the wind speed exceeded 20 km/h?"
   ]
  },
  {
   "cell_type": "code",
   "execution_count": 82,
   "id": "2a767ab0-4c8a-4625-90d4-87b71488b6b1",
   "metadata": {},
   "outputs": [],
   "source": [
    "prob_rain_inter_wind=df[(df['rainy_day']==1) & (df['wind_speed']>20)].shape[0]\n",
    "prob_wind_speed=df[df['wind_speed']>20].shape[0]\n",
    "\n",
    "# prob_rain_inter_wind/prob_wind_speed---> error cz div by 0"
   ]
  },
  {
   "cell_type": "markdown",
   "id": "2b0c8913-5cf3-41cf-8ee5-5205d58c0a7a",
   "metadata": {},
   "source": [
    "## 17. calculate the probability that the temperature exceeds 30°C, given that the wind speed is less than 10 km/h."
   ]
  },
  {
   "cell_type": "code",
   "execution_count": 83,
   "id": "9cb261ce-064b-41d1-87e3-dc0c53d4d84a",
   "metadata": {},
   "outputs": [
    {
     "data": {
      "text/plain": [
       "0.20618556701030927"
      ]
     },
     "execution_count": 83,
     "metadata": {},
     "output_type": "execute_result"
    }
   ],
   "source": [
    "prob_rain_inter_wind=df[(df['temperature']>30) & (df['wind_speed']<10)].shape[0]\n",
    "prob_wind_speed=df[df['wind_speed']<10].shape[0]\n",
    "prob_rain_inter_wind/prob_wind_speed"
   ]
  },
  {
   "cell_type": "markdown",
   "id": "13812830-060a-4ac6-ae92-837c1cd0316f",
   "metadata": {},
   "source": [
    "## 18. Use the total probability theorem to compute the probability of rain, given three different wind speed categories: low (< 10 km/h), medium (10–20 km/h), and high (> 20 km/h)."
   ]
  },
  {
   "cell_type": "code",
   "execution_count": 93,
   "id": "6e66fcb5-2f12-4593-b497-6153173b4c0d",
   "metadata": {},
   "outputs": [],
   "source": [
    "# Repeat 10"
   ]
  },
  {
   "cell_type": "markdown",
   "id": "1234200d-369f-40ce-a4a0-1cdc0fdc1971",
   "metadata": {},
   "source": [
    "## 19. The prior probability of rain is 0.3. If the likelihood of high humidity (humidity > 75%) on a rainy day is 0.8, and the overall probability of high humidity is 0.6, calculate the posterior probability of rain given high humidity, using weather.csv dataset. "
   ]
  },
  {
   "cell_type": "code",
   "execution_count": 85,
   "id": "4a2e0bc1-c623-4dd1-8d14-9da1251f65e6",
   "metadata": {},
   "outputs": [
    {
     "data": {
      "text/plain": [
       "0.4"
      ]
     },
     "execution_count": 85,
     "metadata": {},
     "output_type": "execute_result"
    }
   ],
   "source": [
    "prob_high_given_rain=0.8\n",
    "prob_rain=0.3\n",
    "prob_high_hum=0.6\n",
    "prob_rain_given_high=(prob_high_given_rain*prob_rain)/prob_high_hum\n",
    "prob_rain_given_high"
   ]
  },
  {
   "cell_type": "markdown",
   "id": "4576940b-002b-4c6a-a975-1d3447431202",
   "metadata": {},
   "source": [
    "## 20. Dataset, are the events \"high humidity\" (humidity > 75%) and \"rain\" dependent, given the wind speed? Compute P(rain | humidity > 75%) and P(rain | wind speed). Determine if there is dependence between these two events."
   ]
  },
  {
   "cell_type": "code",
   "execution_count": 86,
   "id": "e6008304-f272-4bad-88bb-a683fe901e90",
   "metadata": {},
   "outputs": [
    {
     "data": {
      "text/html": [
       "<div>\n",
       "<style scoped>\n",
       "    .dataframe tbody tr th:only-of-type {\n",
       "        vertical-align: middle;\n",
       "    }\n",
       "\n",
       "    .dataframe tbody tr th {\n",
       "        vertical-align: top;\n",
       "    }\n",
       "\n",
       "    .dataframe thead th {\n",
       "        text-align: right;\n",
       "    }\n",
       "</style>\n",
       "<table border=\"1\" class=\"dataframe\">\n",
       "  <thead>\n",
       "    <tr style=\"text-align: right;\">\n",
       "      <th></th>\n",
       "      <th>day</th>\n",
       "      <th>temperature</th>\n",
       "      <th>humidity</th>\n",
       "      <th>wind_speed</th>\n",
       "      <th>rainy_day</th>\n",
       "    </tr>\n",
       "  </thead>\n",
       "  <tbody>\n",
       "    <tr>\n",
       "      <th>0</th>\n",
       "      <td>1</td>\n",
       "      <td>36.1</td>\n",
       "      <td>50</td>\n",
       "      <td>17.7</td>\n",
       "      <td>0</td>\n",
       "    </tr>\n",
       "    <tr>\n",
       "      <th>1</th>\n",
       "      <td>2</td>\n",
       "      <td>-3.4</td>\n",
       "      <td>60</td>\n",
       "      <td>7.4</td>\n",
       "      <td>0</td>\n",
       "    </tr>\n",
       "    <tr>\n",
       "      <th>2</th>\n",
       "      <td>3</td>\n",
       "      <td>11.0</td>\n",
       "      <td>36</td>\n",
       "      <td>0.6</td>\n",
       "      <td>1</td>\n",
       "    </tr>\n",
       "    <tr>\n",
       "      <th>3</th>\n",
       "      <td>4</td>\n",
       "      <td>-1.2</td>\n",
       "      <td>23</td>\n",
       "      <td>13.9</td>\n",
       "      <td>0</td>\n",
       "    </tr>\n",
       "    <tr>\n",
       "      <th>4</th>\n",
       "      <td>5</td>\n",
       "      <td>36.9</td>\n",
       "      <td>23</td>\n",
       "      <td>8.3</td>\n",
       "      <td>1</td>\n",
       "    </tr>\n",
       "  </tbody>\n",
       "</table>\n",
       "</div>"
      ],
      "text/plain": [
       "   day  temperature  humidity  wind_speed  rainy_day\n",
       "0    1         36.1        50        17.7          0\n",
       "1    2         -3.4        60         7.4          0\n",
       "2    3         11.0        36         0.6          1\n",
       "3    4         -1.2        23        13.9          0\n",
       "4    5         36.9        23         8.3          1"
      ]
     },
     "execution_count": 86,
     "metadata": {},
     "output_type": "execute_result"
    }
   ],
   "source": [
    "df.head()"
   ]
  },
  {
   "cell_type": "code",
   "execution_count": 87,
   "id": "48dec6d5-7900-4324-aa8f-b15b3d9e5fe2",
   "metadata": {},
   "outputs": [],
   "source": [
    "P_rain_given_hum=df[(df['rainy_day']==1) & (df['humidity']>75)].shape[0]"
   ]
  },
  {
   "cell_type": "code",
   "execution_count": 88,
   "id": "9c623c75-4df4-4288-bd60-df469537bdce",
   "metadata": {},
   "outputs": [
    {
     "data": {
      "text/plain": [
       "61"
      ]
     },
     "execution_count": 88,
     "metadata": {},
     "output_type": "execute_result"
    }
   ],
   "source": [
    "P_rain_given_hum"
   ]
  },
  {
   "cell_type": "code",
   "execution_count": 89,
   "id": "c31c6aec-0165-4bad-a923-04baf1da6a6e",
   "metadata": {},
   "outputs": [
    {
     "name": "stdout",
     "output_type": "stream",
     "text": [
      "P(rain): 0.4465753424657534\n",
      "P(rain | humidity > 75%): 0.5126050420168067\n",
      "P(rain | wind speed ranges):\n",
      "wind_category\n",
      "low         0.416667\n",
      "moderate    0.419643\n",
      "high        0.534884\n",
      "Name: rainy_day, dtype: float64\n"
     ]
    },
    {
     "name": "stderr",
     "output_type": "stream",
     "text": [
      "/var/folders/1l/yjncc__16rsb16dwf0x18b400000gn/T/ipykernel_703/533924180.py:13: FutureWarning: The default of observed=False is deprecated and will be changed to True in a future version of pandas. Pass observed=False to retain current behavior or observed=True to adopt the future default and silence this warning.\n",
      "  P_rain_given_wind = df.groupby('wind_category')['rainy_day'].mean()\n"
     ]
    }
   ],
   "source": [
    "\n",
    "\n",
    "P_rain = df['rainy_day'].mean()\n",
    "\n",
    "\n",
    "high_humidity_days = df[df['humidity'] > 75]\n",
    "P_rain_given_high_humidity = high_humidity_days['rainy_day'].mean() if not high_humidity_days.empty else 0\n",
    "\n",
    "\n",
    "bins = [0, 5, 10, 15] \n",
    "labels = ['low', 'moderate', 'high']\n",
    "df['wind_category'] = pd.cut(df['wind_speed'], bins=bins, labels=labels)\n",
    "\n",
    "\n",
    "P_rain_given_wind = df.groupby('wind_category')['rainy_day'].mean()\n",
    "\n",
    "\n",
    "print(f\"P(rain): {P_rain}\")\n",
    "print(f\"P(rain | humidity > 75%): {P_rain_given_high_humidity}\")\n",
    "print(\"P(rain | wind speed ranges):\")\n",
    "print(P_rain_given_wind)\n"
   ]
  },
  {
   "cell_type": "code",
   "execution_count": null,
   "id": "d538bc84-fca6-4fd9-86e8-d9535cffcb81",
   "metadata": {},
   "outputs": [],
   "source": []
  },
  {
   "cell_type": "code",
   "execution_count": null,
   "id": "791f8d92-e691-42ad-8cd7-54d2fd6a641b",
   "metadata": {},
   "outputs": [],
   "source": []
  }
 ],
 "metadata": {
  "kernelspec": {
   "display_name": "Python 3 (ipykernel)",
   "language": "python",
   "name": "python3"
  },
  "language_info": {
   "codemirror_mode": {
    "name": "ipython",
    "version": 3
   },
   "file_extension": ".py",
   "mimetype": "text/x-python",
   "name": "python",
   "nbconvert_exporter": "python",
   "pygments_lexer": "ipython3",
   "version": "3.12.6"
  }
 },
 "nbformat": 4,
 "nbformat_minor": 5
}
