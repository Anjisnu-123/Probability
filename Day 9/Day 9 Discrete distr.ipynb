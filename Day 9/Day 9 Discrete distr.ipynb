{
 "cells": [
  {
   "cell_type": "code",
   "execution_count": 2,
   "id": "9af33760-9977-4c56-be0f-ffdfa60f07bd",
   "metadata": {},
   "outputs": [],
   "source": [
    "from scipy import stats\n",
    "import numpy as np"
   ]
  },
  {
   "cell_type": "markdown",
   "id": "72725731-50b4-460c-9ece-6df04b07a3de",
   "metadata": {},
   "source": [
    ">"
   ]
  },
  {
   "cell_type": "markdown",
   "id": "f544896d-17fb-4b2a-b02b-614f9dc81fa4",
   "metadata": {},
   "source": [
    "> ## Q1. The number of attempts until a marketing campaign succeeds follows a geometric distribution with different success probabilities for each campaign. \n",
    "> * ### i)  If the success probability for a campaign is 0.1, what is the expected number of attempts until success? \n",
    "> * ### ii) How does the expected number of attempts change if the success probability increases to 0.2?"
   ]
  },
  {
   "cell_type": "code",
   "execution_count": 19,
   "id": "cbdb8c38-dddd-4ce3-b316-5f3e794716b5",
   "metadata": {},
   "outputs": [
    {
     "data": {
      "text/plain": [
       "10.0"
      ]
     },
     "execution_count": 19,
     "metadata": {},
     "output_type": "execute_result"
    }
   ],
   "source": [
    "e_of_x=1/0.1\n",
    "e_of_x"
   ]
  },
  {
   "cell_type": "code",
   "execution_count": 20,
   "id": "eb8f7bae-e9c1-4d3a-95e1-67f80658358a",
   "metadata": {},
   "outputs": [
    {
     "data": {
      "text/plain": [
       "5.0"
      ]
     },
     "execution_count": 20,
     "metadata": {},
     "output_type": "execute_result"
    }
   ],
   "source": [
    "e_of_x=1/0.2\n",
    "e_of_x"
   ]
  },
  {
   "cell_type": "markdown",
   "id": "c1ed6686-8d9b-4094-a295-8480f40fa23f",
   "metadata": {},
   "source": [
    "> ## Each campaign has either a success (1) or failure (0). What is the probability that a campaign succeeds in fewer than 10 attempts, assuming the success probability is 0.1?"
   ]
  },
  {
   "cell_type": "code",
   "execution_count": 21,
   "id": "04a5261f-c941-49d3-89e0-fa2e1a4f05d2",
   "metadata": {},
   "outputs": [],
   "source": [
    "succ_prob=0.1\n",
    "loss_prob=1-0.1"
   ]
  },
  {
   "cell_type": "code",
   "execution_count": 23,
   "id": "bcf505b7-7f41-4516-b34d-f0fd61fd6872",
   "metadata": {},
   "outputs": [
    {
     "data": {
      "text/plain": [
       "0.3874204890000001"
      ]
     },
     "execution_count": 23,
     "metadata": {},
     "output_type": "execute_result"
    }
   ],
   "source": [
    "prob_loss_in_9_trial=loss_prob**9\n",
    "prob_loss_in_9_trial"
   ]
  },
  {
   "cell_type": "markdown",
   "id": "ebeb6544-3699-4d37-a522-4bcfbd42b5b9",
   "metadata": {
    "jp-MarkdownHeadingCollapsed": true
   },
   "source": [
    "> ## Suppose we want to model the total number of successful campaigns across different channels using a binomial distribution. Define the binomial distribution and describe how you would set it up to represent the number of successes in a fixed number of campaigns. If we randomly pick 10 campaigns from the dataset with a 0.1 success probability, what is the probability that at least 3 of them will be successful?"
   ]
  },
  {
   "cell_type": "code",
   "execution_count": 27,
   "id": "d80e4f50-f1ed-48b7-b171-aae77a8790e6",
   "metadata": {},
   "outputs": [
    {
     "data": {
      "text/plain": [
       "0.07019082639999974"
      ]
     },
     "execution_count": 27,
     "metadata": {},
     "output_type": "execute_result"
    }
   ],
   "source": [
    "import math\n",
    "\n",
    "prob=math.comb(10,2)*((0.1)**2)*((0.9)**8)+math.comb(10,1)*((0.1)**1)*((0.9)**9)+math.comb(10,0)*((0.1)**0)*((0.9)**10)\n",
    "1-prob"
   ]
  },
  {
   "cell_type": "markdown",
   "id": "15bb50ca-ec50-44ab-8b42-cead4742b96c",
   "metadata": {
    "jp-MarkdownHeadingCollapsed": true
   },
   "source": [
    "> ## The campaigns are conducted over four channels: email, social media, display ad, and search ad. If we assume that each campaign has an equal probability of being assigned to any of the channels, what discrete distribution would describe this assignment? Calculate the probability of each channel being chosen."
   ]
  },
  {
   "cell_type": "code",
   "execution_count": 31,
   "id": "6a5dacbe-3fad-4be7-926f-c96883bcc241",
   "metadata": {},
   "outputs": [
    {
     "data": {
      "text/html": [
       "<div>\n",
       "<style scoped>\n",
       "    .dataframe tbody tr th:only-of-type {\n",
       "        vertical-align: middle;\n",
       "    }\n",
       "\n",
       "    .dataframe tbody tr th {\n",
       "        vertical-align: top;\n",
       "    }\n",
       "\n",
       "    .dataframe thead th {\n",
       "        text-align: right;\n",
       "    }\n",
       "</style>\n",
       "<table border=\"1\" class=\"dataframe\">\n",
       "  <thead>\n",
       "    <tr style=\"text-align: right;\">\n",
       "      <th></th>\n",
       "      <th>campaign_id</th>\n",
       "      <th>start_date</th>\n",
       "      <th>channel</th>\n",
       "      <th>attempts</th>\n",
       "      <th>success</th>\n",
       "      <th>cost_per_attempt</th>\n",
       "      <th>total_cost</th>\n",
       "      <th>conversion_value</th>\n",
       "    </tr>\n",
       "  </thead>\n",
       "  <tbody>\n",
       "    <tr>\n",
       "      <th>0</th>\n",
       "      <td>1</td>\n",
       "      <td>2023-01-01</td>\n",
       "      <td>social_media</td>\n",
       "      <td>3</td>\n",
       "      <td>1</td>\n",
       "      <td>1.722601</td>\n",
       "      <td>5.167802</td>\n",
       "      <td>334.251596</td>\n",
       "    </tr>\n",
       "    <tr>\n",
       "      <th>1</th>\n",
       "      <td>2</td>\n",
       "      <td>2023-01-02</td>\n",
       "      <td>display_ad</td>\n",
       "      <td>2</td>\n",
       "      <td>1</td>\n",
       "      <td>1.235949</td>\n",
       "      <td>2.471898</td>\n",
       "      <td>481.253154</td>\n",
       "    </tr>\n",
       "    <tr>\n",
       "      <th>2</th>\n",
       "      <td>3</td>\n",
       "      <td>2023-01-03</td>\n",
       "      <td>search_ad</td>\n",
       "      <td>9</td>\n",
       "      <td>1</td>\n",
       "      <td>8.737137</td>\n",
       "      <td>78.634230</td>\n",
       "      <td>154.613081</td>\n",
       "    </tr>\n",
       "    <tr>\n",
       "      <th>3</th>\n",
       "      <td>4</td>\n",
       "      <td>2023-01-04</td>\n",
       "      <td>display_ad</td>\n",
       "      <td>11</td>\n",
       "      <td>1</td>\n",
       "      <td>4.711274</td>\n",
       "      <td>51.824012</td>\n",
       "      <td>381.022547</td>\n",
       "    </tr>\n",
       "    <tr>\n",
       "      <th>4</th>\n",
       "      <td>5</td>\n",
       "      <td>2023-01-05</td>\n",
       "      <td>display_ad</td>\n",
       "      <td>16</td>\n",
       "      <td>1</td>\n",
       "      <td>4.680855</td>\n",
       "      <td>74.893686</td>\n",
       "      <td>487.216364</td>\n",
       "    </tr>\n",
       "  </tbody>\n",
       "</table>\n",
       "</div>"
      ],
      "text/plain": [
       "   campaign_id  start_date       channel  attempts  success  cost_per_attempt  \\\n",
       "0            1  2023-01-01  social_media         3        1          1.722601   \n",
       "1            2  2023-01-02    display_ad         2        1          1.235949   \n",
       "2            3  2023-01-03     search_ad         9        1          8.737137   \n",
       "3            4  2023-01-04    display_ad        11        1          4.711274   \n",
       "4            5  2023-01-05    display_ad        16        1          4.680855   \n",
       "\n",
       "   total_cost  conversion_value  \n",
       "0    5.167802        334.251596  \n",
       "1    2.471898        481.253154  \n",
       "2   78.634230        154.613081  \n",
       "3   51.824012        381.022547  \n",
       "4   74.893686        487.216364  "
      ]
     },
     "execution_count": 31,
     "metadata": {},
     "output_type": "execute_result"
    }
   ],
   "source": [
    "import pandas as pd\n",
    "df=pd.read_csv('marketing_campaign_data.csv')\n",
    "df.head()"
   ]
  },
  {
   "cell_type": "code",
   "execution_count": 37,
   "id": "1bbb2239-8e32-430c-a2c6-2f10dfcc6428",
   "metadata": {},
   "outputs": [
    {
     "data": {
      "text/plain": [
       "0.25"
      ]
     },
     "execution_count": 37,
     "metadata": {},
     "output_type": "execute_result"
    }
   ],
   "source": [
    "no_of_chanel=df['channel'].value_counts().shape[0]\n",
    "1/no_of_chanel"
   ]
  },
  {
   "cell_type": "code",
   "execution_count": 61,
   "id": "bafae42e-b2a5-4b04-8105-4427b8ae91ea",
   "metadata": {},
   "outputs": [
    {
     "data": {
      "text/plain": [
       "Series([], Name: count, dtype: int64)"
      ]
     },
     "execution_count": 61,
     "metadata": {},
     "output_type": "execute_result"
    }
   ],
   "source": [
    "df[(df['success']==0) & (df['attempts']==5)].value_counts()"
   ]
  },
  {
   "cell_type": "markdown",
   "id": "08b4c7f7-46e6-4375-a2e5-d91edf5a192e",
   "metadata": {},
   "source": [
    "> ## Assume you have a subset of 100 campaigns, out of which 30 are successful. If you randomly select 10 campaigns from this subset without replacement, what is the probability that exactly 4 of them are successful? "
   ]
  },
  {
   "cell_type": "code",
   "execution_count": 42,
   "id": "dccf575d-821e-4eba-981f-ed1b46718425",
   "metadata": {},
   "outputs": [
    {
     "data": {
      "text/plain": [
       "0.20757766219992096"
      ]
     },
     "execution_count": 42,
     "metadata": {},
     "output_type": "execute_result"
    }
   ],
   "source": [
    "succ_prob=30/100\n",
    "failure_prob=70/100\n",
    "prob=math.comb(30,4)*math.comb(100-30,10-4)/math.comb(100,10)\n",
    "prob"
   ]
  },
  {
   "cell_type": "markdown",
   "id": "8a4cb7d4-f07a-4799-b28b-a5fd482c5d6b",
   "metadata": {},
   "source": [
    "> ## In the dataset, we are interested in finding the number of failed attempts before the first success occurs. What would be the distribution here and how would you define the distribution? What is the probability of needing exactly 5 failed attempts before achieving a success?"
   ]
  },
  {
   "cell_type": "code",
   "execution_count": 73,
   "id": "f2f53749-c585-4858-a7e9-4384bda748ab",
   "metadata": {},
   "outputs": [
    {
     "data": {
      "text/plain": [
       "9.900000000000043e-11"
      ]
     },
     "execution_count": 73,
     "metadata": {},
     "output_type": "execute_result"
    }
   ],
   "source": [
    "p_success = len(df[df['success'] == 1])/len(df)\n",
    "stats.geom.pmf(6, p_success)"
   ]
  },
  {
   "cell_type": "code",
   "execution_count": 74,
   "id": "177d0f86-7802-426c-9e7c-11cc0a32b6b9",
   "metadata": {},
   "outputs": [
    {
     "data": {
      "text/plain": [
       "0.99"
      ]
     },
     "execution_count": 74,
     "metadata": {},
     "output_type": "execute_result"
    }
   ],
   "source": [
    "p_success "
   ]
  }
 ],
 "metadata": {
  "kernelspec": {
   "display_name": "Python 3 (ipykernel)",
   "language": "python",
   "name": "python3"
  },
  "language_info": {
   "codemirror_mode": {
    "name": "ipython",
    "version": 3
   },
   "file_extension": ".py",
   "mimetype": "text/x-python",
   "name": "python",
   "nbconvert_exporter": "python",
   "pygments_lexer": "ipython3",
   "version": "3.12.4"
  }
 },
 "nbformat": 4,
 "nbformat_minor": 5
}
