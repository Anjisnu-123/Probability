{
 "cells": [
  {
   "cell_type": "code",
   "execution_count": 270,
   "id": "7a71cc0d-caff-42bf-b00e-07c751a48f47",
   "metadata": {},
   "outputs": [],
   "source": [
    "import pandas as pd\n",
    "import numpy as np"
   ]
  },
  {
   "cell_type": "markdown",
   "id": "78f6674d-5ad3-4b60-9f16-d47f4b9d89fd",
   "metadata": {
    "jp-MarkdownHeadingCollapsed": true
   },
   "source": [
    "## Calculate the conditional probability of a player scoring more than 30 points given they are from \"Team A\" in game_scores.csv."
   ]
  },
  {
   "cell_type": "code",
   "execution_count": 397,
   "id": "2cf81670-d248-4da4-b9b7-b3621a2c39dd",
   "metadata": {},
   "outputs": [],
   "source": [
    "def conditional(dataset):\n",
    "    df=pd.read_csv(dataset)\n",
    "    is_team=df['team']=='Team A'\n",
    "    total=np.sum(is_team)\n",
    "    count = df[(df[\"team\"] == \"Team A\") & (df[\"points_scored\"] > 30)].shape[0]\n",
    "    is_scor_30=is_team>30\n",
    "    if(count>0):\n",
    "        ans=count/total\n",
    "    else:\n",
    "        ans=0\n",
    "    return ans"
   ]
  },
  {
   "cell_type": "code",
   "execution_count": 398,
   "id": "5d0d6aee-5be2-4cfb-acc8-fd3634dcbbdc",
   "metadata": {},
   "outputs": [
    {
     "data": {
      "text/plain": [
       "0.24404761904761904"
      ]
     },
     "execution_count": 398,
     "metadata": {},
     "output_type": "execute_result"
    }
   ],
   "source": [
    "conditional('game_scores.csv')"
   ]
  },
  {
   "cell_type": "markdown",
   "id": "87f3991c-42e5-4714-b667-c64548a7ac24",
   "metadata": {
    "jp-MarkdownHeadingCollapsed": true
   },
   "source": [
    "## Apply the total probability theorem to find the probability of having the disease in disease_data.csv, given the smoking status."
   ]
  },
  {
   "cell_type": "code",
   "execution_count": 400,
   "id": "1c519a81-8782-4ef1-b426-8cb6683f55e3",
   "metadata": {},
   "outputs": [],
   "source": [
    "def disease(dataset):\n",
    "    df=pd.read_csv(dataset)\n",
    "    count = df[(df[\"smoker\"] == 1) & (df[\"disease_present\"]==1)].shape[0]\n",
    "    count_smoker=df[(df[\"smoker\"] == 1)].shape[0]\n",
    "    prob_smoker=count_smoker/len(df)\n",
    "    ans1=prob_smoker*(count/count_smoker)\n",
    "    count = df[(df[\"smoker\"] == 0) & (df[\"disease_present\"]==1)].shape[0]\n",
    "    count_smoker=df[(df[\"smoker\"] == 0)].shape[0]\n",
    "    ans2=(count/(count_non_smoker))*(count_non_smoker/len(df))\n",
    "    return ans1+ans2"
   ]
  },
  {
   "cell_type": "code",
   "execution_count": 401,
   "id": "2e435778-054e-4ed2-9bb4-397a3f6a208c",
   "metadata": {},
   "outputs": [
    {
     "data": {
      "text/plain": [
       "0.07730000000000001"
      ]
     },
     "execution_count": 401,
     "metadata": {},
     "output_type": "execute_result"
    }
   ],
   "source": [
    "disease('disease_data.csv')"
   ]
  },
  {
   "cell_type": "markdown",
   "id": "003dc7b8-7900-44a9-8bad-a571c8c679ab",
   "metadata": {
    "jp-MarkdownHeadingCollapsed": true
   },
   "source": [
    "## Determine if the events \"voted\" and \"candidate voted for\" are independent in election.csv\n"
   ]
  },
  {
   "cell_type": "code",
   "execution_count": 317,
   "id": "b36f5211-8993-420f-9998-e01b3046e5cf",
   "metadata": {},
   "outputs": [],
   "source": [
    "df=pd.read_csv('election.csv')"
   ]
  },
  {
   "cell_type": "code",
   "execution_count": 437,
   "id": "79a5f643-af13-43b3-ba5f-26312b96efa7",
   "metadata": {},
   "outputs": [
    {
     "data": {
      "text/html": [
       "<div>\n",
       "<style scoped>\n",
       "    .dataframe tbody tr th:only-of-type {\n",
       "        vertical-align: middle;\n",
       "    }\n",
       "\n",
       "    .dataframe tbody tr th {\n",
       "        vertical-align: top;\n",
       "    }\n",
       "\n",
       "    .dataframe thead th {\n",
       "        text-align: right;\n",
       "    }\n",
       "</style>\n",
       "<table border=\"1\" class=\"dataframe\">\n",
       "  <thead>\n",
       "    <tr style=\"text-align: right;\">\n",
       "      <th></th>\n",
       "      <th>voter_id</th>\n",
       "      <th>age_group</th>\n",
       "      <th>gender</th>\n",
       "      <th>voted</th>\n",
       "      <th>candidate_voted_for</th>\n",
       "    </tr>\n",
       "  </thead>\n",
       "  <tbody>\n",
       "    <tr>\n",
       "      <th>0</th>\n",
       "      <td>1</td>\n",
       "      <td>18-25</td>\n",
       "      <td>Male</td>\n",
       "      <td>1</td>\n",
       "      <td>Candidate A</td>\n",
       "    </tr>\n",
       "    <tr>\n",
       "      <th>1</th>\n",
       "      <td>2</td>\n",
       "      <td>26-35</td>\n",
       "      <td>Male</td>\n",
       "      <td>1</td>\n",
       "      <td>Candidate C</td>\n",
       "    </tr>\n",
       "    <tr>\n",
       "      <th>2</th>\n",
       "      <td>3</td>\n",
       "      <td>60+</td>\n",
       "      <td>Male</td>\n",
       "      <td>1</td>\n",
       "      <td>Candidate A</td>\n",
       "    </tr>\n",
       "    <tr>\n",
       "      <th>3</th>\n",
       "      <td>4</td>\n",
       "      <td>18-25</td>\n",
       "      <td>Male</td>\n",
       "      <td>1</td>\n",
       "      <td>Candidate C</td>\n",
       "    </tr>\n",
       "    <tr>\n",
       "      <th>4</th>\n",
       "      <td>5</td>\n",
       "      <td>60+</td>\n",
       "      <td>Male</td>\n",
       "      <td>1</td>\n",
       "      <td>Candidate C</td>\n",
       "    </tr>\n",
       "  </tbody>\n",
       "</table>\n",
       "</div>"
      ],
      "text/plain": [
       "   voter_id age_group gender  voted candidate_voted_for\n",
       "0         1     18-25   Male      1         Candidate A\n",
       "1         2     26-35   Male      1         Candidate C\n",
       "2         3       60+   Male      1         Candidate A\n",
       "3         4     18-25   Male      1         Candidate C\n",
       "4         5       60+   Male      1         Candidate C"
      ]
     },
     "execution_count": 437,
     "metadata": {},
     "output_type": "execute_result"
    }
   ],
   "source": [
    "df.head()"
   ]
  },
  {
   "cell_type": "code",
   "execution_count": 318,
   "id": "dafaed2c-19c7-444f-a673-b39393f634cc",
   "metadata": {},
   "outputs": [],
   "source": [
    "df.head()\n",
    "candidate = 'Candidate A'"
   ]
  },
  {
   "cell_type": "code",
   "execution_count": 338,
   "id": "cb672252-ad59-4389-8f84-261212ab5839",
   "metadata": {},
   "outputs": [],
   "source": [
    "count = df[(df[\"voted\"] == 1) & \n",
    "           (df[\"candidate_voted_for\"].isin(['Candidate A', 'Candidate B', 'Candidate C']))].shape[0]\n"
   ]
  },
  {
   "cell_type": "code",
   "execution_count": null,
   "id": "80efec0a-549a-4aee-bea7-9454f6901378",
   "metadata": {},
   "outputs": [],
   "source": [
    "def voted()"
   ]
  },
  {
   "cell_type": "code",
   "execution_count": 339,
   "id": "bb6cd69f-6df6-4325-88f2-7f387c76ab33",
   "metadata": {},
   "outputs": [
    {
     "data": {
      "text/plain": [
       "737"
      ]
     },
     "execution_count": 339,
     "metadata": {},
     "output_type": "execute_result"
    }
   ],
   "source": [
    "count"
   ]
  },
  {
   "cell_type": "code",
   "execution_count": 340,
   "id": "45140dd8-db3f-478a-af72-5e7c8c9182b0",
   "metadata": {},
   "outputs": [
    {
     "data": {
      "text/plain": [
       "1000"
      ]
     },
     "execution_count": 340,
     "metadata": {},
     "output_type": "execute_result"
    }
   ],
   "source": [
    "len(df)"
   ]
  },
  {
   "cell_type": "code",
   "execution_count": 341,
   "id": "48952cfa-1285-4988-9bec-68b65b84a38f",
   "metadata": {},
   "outputs": [],
   "source": [
    "# intersectin\n",
    "inter=count/len(df)"
   ]
  },
  {
   "cell_type": "code",
   "execution_count": 345,
   "id": "a4174a8a-f446-4a51-88bd-ade01ac6d949",
   "metadata": {},
   "outputs": [
    {
     "data": {
      "text/plain": [
       "0.737"
      ]
     },
     "execution_count": 345,
     "metadata": {},
     "output_type": "execute_result"
    }
   ],
   "source": [
    "inter"
   ]
  },
  {
   "cell_type": "code",
   "execution_count": 342,
   "id": "b678d428-726b-4eee-8bbf-24aabb2a40a3",
   "metadata": {},
   "outputs": [],
   "source": [
    "# prob of a\n",
    "p_A=df[(df[\"voted\"]==1)].shape[0]/len(df)"
   ]
  },
  {
   "cell_type": "code",
   "execution_count": 346,
   "id": "4c81d950-9040-4a3b-9652-48afe39a5955",
   "metadata": {},
   "outputs": [
    {
     "data": {
      "text/plain": [
       "(0.737, 0.219)"
      ]
     },
     "execution_count": 346,
     "metadata": {},
     "output_type": "execute_result"
    }
   ],
   "source": [
    "# prob of b\n",
    "candidate_voted_count = df[df['candidate_voted_for'] == candidate].shape[0]\n",
    "P_B = candidate_voted_count / total_count\n",
    "p_A,P_B"
   ]
  },
  {
   "cell_type": "code",
   "execution_count": 344,
   "id": "fe743b98-899f-41f3-b920-231ffc6f3df4",
   "metadata": {},
   "outputs": [
    {
     "name": "stdout",
     "output_type": "stream",
     "text": [
      "Dep\n"
     ]
    }
   ],
   "source": [
    "if(p_A*P_B==inter):\n",
    "    print(\"ind\")\n",
    "else:\n",
    "    print(\"Dep\")"
   ]
  },
  {
   "cell_type": "markdown",
   "id": "c4c9920b-c710-4020-9a96-30d9897ad570",
   "metadata": {
    "jp-MarkdownHeadingCollapsed": true
   },
   "source": [
    "## Calculate the joint probability of high humidity and rain using the weather.csv dataset."
   ]
  },
  {
   "cell_type": "code",
   "execution_count": 377,
   "id": "72885d87-7d37-44e8-acab-3f84599661d4",
   "metadata": {},
   "outputs": [],
   "source": [
    "def humidity(dataset):\n",
    "    df=pd.read_csv(dataset)\n",
    "    count=df[(df['humidity']>75) & df['rainy_day']==1].shape[0]\n",
    "    ans=count/len(df)\n",
    "    return ans"
   ]
  },
  {
   "cell_type": "code",
   "execution_count": 389,
   "id": "c3f176d1-227a-4066-af70-7caa2f397049",
   "metadata": {},
   "outputs": [
    {
     "data": {
      "text/plain": [
       "0.16712328767123288"
      ]
     },
     "execution_count": 389,
     "metadata": {},
     "output_type": "execute_result"
    }
   ],
   "source": [
    "ans=humidity('weather.csv')\n",
    "ans"
   ]
  },
  {
   "cell_type": "markdown",
   "id": "0f1365d9-5698-430a-85c3-94e55c39cf7b",
   "metadata": {
    "jp-MarkdownHeadingCollapsed": true
   },
   "source": [
    "## Compute the marginal probability of high humidity and compare it with the joint probability in weather.csv\n",
    "\n"
   ]
  },
  {
   "cell_type": "code",
   "execution_count": 393,
   "id": "7cccaec6-bb89-4c35-8dad-f6ed40936fa3",
   "metadata": {},
   "outputs": [],
   "source": [
    "def marginal(dataset,join_prob):\n",
    "    df=pd.read_csv(dataset)\n",
    "    marhinal_count=df[df['humidity']>75].shape[0]\n",
    "    ans2=marhinal_count/len(df)\n",
    "    return ans2==join_prob"
   ]
  },
  {
   "cell_type": "code",
   "execution_count": 394,
   "id": "b52fe73a-e08e-4792-8ac1-11d632e90d25",
   "metadata": {},
   "outputs": [],
   "source": [
    "ans=marginal('weather.csv',ans)"
   ]
  },
  {
   "cell_type": "code",
   "execution_count": 395,
   "id": "b270421c-98e3-439c-9c29-79e36c55a0b6",
   "metadata": {},
   "outputs": [
    {
     "data": {
      "text/plain": [
       "False"
      ]
     },
     "execution_count": 395,
     "metadata": {},
     "output_type": "execute_result"
    }
   ],
   "source": [
    "ans"
   ]
  },
  {
   "cell_type": "markdown",
   "id": "8e472eea-0623-42f3-b6df-7a4a86e86848",
   "metadata": {
    "jp-MarkdownHeadingCollapsed": true
   },
   "source": [
    "## Use disease_data.csv to find the probability of having the disease given that the person is a smoker using Bayes' theorem."
   ]
  },
  {
   "cell_type": "code",
   "execution_count": 402,
   "id": "0c120b1d-e17d-4dc7-974c-19358eeedbb1",
   "metadata": {},
   "outputs": [],
   "source": [
    "import pandas as pd\n",
    "\n",
    "# Load the dataset\n",
    "data = pd.read_csv('disease_data.csv')\n",
    "\n",
    "\n"
   ]
  },
  {
   "cell_type": "code",
   "execution_count": 403,
   "id": "846cadf4-aaaf-4172-8554-57bc35ee4c09",
   "metadata": {},
   "outputs": [
    {
     "data": {
      "text/html": [
       "<div>\n",
       "<style scoped>\n",
       "    .dataframe tbody tr th:only-of-type {\n",
       "        vertical-align: middle;\n",
       "    }\n",
       "\n",
       "    .dataframe tbody tr th {\n",
       "        vertical-align: top;\n",
       "    }\n",
       "\n",
       "    .dataframe thead th {\n",
       "        text-align: right;\n",
       "    }\n",
       "</style>\n",
       "<table border=\"1\" class=\"dataframe\">\n",
       "  <thead>\n",
       "    <tr style=\"text-align: right;\">\n",
       "      <th></th>\n",
       "      <th>person_id</th>\n",
       "      <th>age</th>\n",
       "      <th>smoker</th>\n",
       "      <th>disease_present</th>\n",
       "    </tr>\n",
       "  </thead>\n",
       "  <tbody>\n",
       "    <tr>\n",
       "      <th>0</th>\n",
       "      <td>1</td>\n",
       "      <td>37</td>\n",
       "      <td>0</td>\n",
       "      <td>0</td>\n",
       "    </tr>\n",
       "    <tr>\n",
       "      <th>1</th>\n",
       "      <td>2</td>\n",
       "      <td>37</td>\n",
       "      <td>0</td>\n",
       "      <td>0</td>\n",
       "    </tr>\n",
       "    <tr>\n",
       "      <th>2</th>\n",
       "      <td>3</td>\n",
       "      <td>44</td>\n",
       "      <td>0</td>\n",
       "      <td>1</td>\n",
       "    </tr>\n",
       "    <tr>\n",
       "      <th>3</th>\n",
       "      <td>4</td>\n",
       "      <td>35</td>\n",
       "      <td>0</td>\n",
       "      <td>0</td>\n",
       "    </tr>\n",
       "    <tr>\n",
       "      <th>4</th>\n",
       "      <td>5</td>\n",
       "      <td>49</td>\n",
       "      <td>0</td>\n",
       "      <td>0</td>\n",
       "    </tr>\n",
       "  </tbody>\n",
       "</table>\n",
       "</div>"
      ],
      "text/plain": [
       "   person_id  age  smoker  disease_present\n",
       "0          1   37       0                0\n",
       "1          2   37       0                0\n",
       "2          3   44       0                1\n",
       "3          4   35       0                0\n",
       "4          5   49       0                0"
      ]
     },
     "execution_count": 403,
     "metadata": {},
     "output_type": "execute_result"
    }
   ],
   "source": [
    "data.head()"
   ]
  },
  {
   "cell_type": "code",
   "execution_count": 406,
   "id": "7d3e9a7c-d32a-4840-b791-012f357c8bed",
   "metadata": {},
   "outputs": [
    {
     "data": {
      "text/plain": [
       "0.14600685938265553"
      ]
     },
     "execution_count": 406,
     "metadata": {},
     "output_type": "execute_result"
    }
   ],
   "source": [
    "\n",
    "\n",
    "N = len(data)\n",
    "N_D = len(data[data['disease_present'] == 1])\n",
    "N_S = len(data[data['smoker'] == 1])\n",
    "N_DS = len(data[(data['disease_present'] == 1) & (data['smoker'] == 1)])\n",
    "\n",
    "P_D = N_D / N\n",
    "P_S_given_D = N_DS / N_D\n",
    "P_S = N_S / N\n",
    "\n",
    "P_D_given_S = (P_S_given_D * P_D) / P_S\n",
    "\n",
    "P_D_given_S"
   ]
  },
  {
   "cell_type": "markdown",
   "id": "b24bdb7b-44d6-4815-8ce4-0533928e7c9b",
   "metadata": {
    "jp-MarkdownHeadingCollapsed": true
   },
   "source": [
    "## Using weather.csv, compute the conditional probability of a high humidity day given that it rained."
   ]
  },
  {
   "cell_type": "code",
   "execution_count": 407,
   "id": "92eec294-2972-4fbf-a38c-9969b1a2756a",
   "metadata": {},
   "outputs": [],
   "source": [
    "import pandas as pd\n",
    "\n",
    "# Load the dataset\n",
    "data = pd.read_csv('weather.csv')\n"
   ]
  },
  {
   "cell_type": "code",
   "execution_count": 408,
   "id": "3fb0f292-bc25-4d1a-a837-0f1605afd788",
   "metadata": {},
   "outputs": [
    {
     "data": {
      "text/html": [
       "<div>\n",
       "<style scoped>\n",
       "    .dataframe tbody tr th:only-of-type {\n",
       "        vertical-align: middle;\n",
       "    }\n",
       "\n",
       "    .dataframe tbody tr th {\n",
       "        vertical-align: top;\n",
       "    }\n",
       "\n",
       "    .dataframe thead th {\n",
       "        text-align: right;\n",
       "    }\n",
       "</style>\n",
       "<table border=\"1\" class=\"dataframe\">\n",
       "  <thead>\n",
       "    <tr style=\"text-align: right;\">\n",
       "      <th></th>\n",
       "      <th>day</th>\n",
       "      <th>temperature</th>\n",
       "      <th>humidity</th>\n",
       "      <th>wind_speed</th>\n",
       "      <th>rainy_day</th>\n",
       "    </tr>\n",
       "  </thead>\n",
       "  <tbody>\n",
       "    <tr>\n",
       "      <th>0</th>\n",
       "      <td>1</td>\n",
       "      <td>36.1</td>\n",
       "      <td>50</td>\n",
       "      <td>17.7</td>\n",
       "      <td>0</td>\n",
       "    </tr>\n",
       "    <tr>\n",
       "      <th>1</th>\n",
       "      <td>2</td>\n",
       "      <td>-3.4</td>\n",
       "      <td>60</td>\n",
       "      <td>7.4</td>\n",
       "      <td>0</td>\n",
       "    </tr>\n",
       "    <tr>\n",
       "      <th>2</th>\n",
       "      <td>3</td>\n",
       "      <td>11.0</td>\n",
       "      <td>36</td>\n",
       "      <td>0.6</td>\n",
       "      <td>1</td>\n",
       "    </tr>\n",
       "    <tr>\n",
       "      <th>3</th>\n",
       "      <td>4</td>\n",
       "      <td>-1.2</td>\n",
       "      <td>23</td>\n",
       "      <td>13.9</td>\n",
       "      <td>0</td>\n",
       "    </tr>\n",
       "    <tr>\n",
       "      <th>4</th>\n",
       "      <td>5</td>\n",
       "      <td>36.9</td>\n",
       "      <td>23</td>\n",
       "      <td>8.3</td>\n",
       "      <td>1</td>\n",
       "    </tr>\n",
       "  </tbody>\n",
       "</table>\n",
       "</div>"
      ],
      "text/plain": [
       "   day  temperature  humidity  wind_speed  rainy_day\n",
       "0    1         36.1        50        17.7          0\n",
       "1    2         -3.4        60         7.4          0\n",
       "2    3         11.0        36         0.6          1\n",
       "3    4         -1.2        23        13.9          0\n",
       "4    5         36.9        23         8.3          1"
      ]
     },
     "execution_count": 408,
     "metadata": {},
     "output_type": "execute_result"
    }
   ],
   "source": [
    "data.head()"
   ]
  },
  {
   "cell_type": "code",
   "execution_count": 409,
   "id": "11ada191-a08b-4bbe-9723-063a932abb4b",
   "metadata": {},
   "outputs": [
    {
     "name": "stdout",
     "output_type": "stream",
     "text": [
      "P(High Humidity | Rained) = 0.3742\n"
     ]
    }
   ],
   "source": [
    "\n",
    "total_days = len(data)\n",
    "days_rained = len(data[data['rainy_day'] == 1])  \n",
    "high_humidity_and_rained = len(data[(data['humidity'] >75 ) & (data['rainy_day'] == 1)])\n",
    "\n",
    "\n",
    "P_high_humidity_and_rained = high_humidity_and_rained / total_days\n",
    "P_rained = days_rained / total_days\n",
    "\n",
    "\n",
    "P_high_humidity_given_rained = P_high_humidity_and_rained / P_rained\n",
    "\n",
    "print(f\"P(High Humidity | Rained) = {P_high_humidity_given_rained:.4f}\")"
   ]
  },
  {
   "cell_type": "markdown",
   "id": "d849d0b0-ba3e-4803-a279-2781dff96796",
   "metadata": {
    "jp-MarkdownHeadingCollapsed": true
   },
   "source": [
    "## From game_scores.csv, determine the probability of a player scoring between 15 and 25 points.\n",
    "\n"
   ]
  },
  {
   "cell_type": "code",
   "execution_count": 411,
   "id": "41545736-0886-4d39-8823-024ffa5166d3",
   "metadata": {},
   "outputs": [],
   "source": [
    "df=pd.read_csv('game_scores.csv')"
   ]
  },
  {
   "cell_type": "code",
   "execution_count": 412,
   "id": "e5201cea-1eb6-4367-8bd2-ce1921643ac9",
   "metadata": {},
   "outputs": [
    {
     "data": {
      "text/html": [
       "<div>\n",
       "<style scoped>\n",
       "    .dataframe tbody tr th:only-of-type {\n",
       "        vertical-align: middle;\n",
       "    }\n",
       "\n",
       "    .dataframe tbody tr th {\n",
       "        vertical-align: top;\n",
       "    }\n",
       "\n",
       "    .dataframe thead th {\n",
       "        text-align: right;\n",
       "    }\n",
       "</style>\n",
       "<table border=\"1\" class=\"dataframe\">\n",
       "  <thead>\n",
       "    <tr style=\"text-align: right;\">\n",
       "      <th></th>\n",
       "      <th>player_id</th>\n",
       "      <th>game_id</th>\n",
       "      <th>team</th>\n",
       "      <th>points_scored</th>\n",
       "      <th>assists</th>\n",
       "      <th>rebounds</th>\n",
       "    </tr>\n",
       "  </thead>\n",
       "  <tbody>\n",
       "    <tr>\n",
       "      <th>0</th>\n",
       "      <td>Player 9</td>\n",
       "      <td>1</td>\n",
       "      <td>Team A</td>\n",
       "      <td>12</td>\n",
       "      <td>10</td>\n",
       "      <td>13</td>\n",
       "    </tr>\n",
       "    <tr>\n",
       "      <th>1</th>\n",
       "      <td>Player 9</td>\n",
       "      <td>1</td>\n",
       "      <td>Team B</td>\n",
       "      <td>28</td>\n",
       "      <td>9</td>\n",
       "      <td>8</td>\n",
       "    </tr>\n",
       "    <tr>\n",
       "      <th>2</th>\n",
       "      <td>Player 10</td>\n",
       "      <td>1</td>\n",
       "      <td>Team B</td>\n",
       "      <td>10</td>\n",
       "      <td>6</td>\n",
       "      <td>10</td>\n",
       "    </tr>\n",
       "    <tr>\n",
       "      <th>3</th>\n",
       "      <td>Player 7</td>\n",
       "      <td>1</td>\n",
       "      <td>Team A</td>\n",
       "      <td>9</td>\n",
       "      <td>3</td>\n",
       "      <td>10</td>\n",
       "    </tr>\n",
       "    <tr>\n",
       "      <th>4</th>\n",
       "      <td>Player 5</td>\n",
       "      <td>1</td>\n",
       "      <td>Team A</td>\n",
       "      <td>5</td>\n",
       "      <td>6</td>\n",
       "      <td>3</td>\n",
       "    </tr>\n",
       "  </tbody>\n",
       "</table>\n",
       "</div>"
      ],
      "text/plain": [
       "   player_id  game_id    team  points_scored  assists  rebounds\n",
       "0   Player 9        1  Team A             12       10        13\n",
       "1   Player 9        1  Team B             28        9         8\n",
       "2  Player 10        1  Team B             10        6        10\n",
       "3   Player 7        1  Team A              9        3        10\n",
       "4   Player 5        1  Team A              5        6         3"
      ]
     },
     "execution_count": 412,
     "metadata": {},
     "output_type": "execute_result"
    }
   ],
   "source": [
    "df.head()"
   ]
  },
  {
   "cell_type": "code",
   "execution_count": 420,
   "id": "11495835-20a8-43e8-aad6-3b1b1d20d621",
   "metadata": {},
   "outputs": [
    {
     "name": "stdout",
     "output_type": "stream",
     "text": [
      "162\n"
     ]
    }
   ],
   "source": [
    "count = df[(df['points_scored'] >= 15) & (df['points_scored'] <= 25)].shape[0]\n",
    "print(count)\n"
   ]
  },
  {
   "cell_type": "code",
   "execution_count": 421,
   "id": "2c058f8e-4f7f-4ddc-b2ac-b97ed7d84e69",
   "metadata": {},
   "outputs": [
    {
     "data": {
      "text/plain": [
       "0.27"
      ]
     },
     "execution_count": 421,
     "metadata": {},
     "output_type": "execute_result"
    }
   ],
   "source": [
    "count/len(df)"
   ]
  },
  {
   "cell_type": "markdown",
   "id": "021fe860-8041-483a-a42c-244483ea4238",
   "metadata": {
    "jp-MarkdownHeadingCollapsed": true
   },
   "source": [
    "## Calculate the probability of not voting given that a voter is from a specific gender in election.csv."
   ]
  },
  {
   "cell_type": "code",
   "execution_count": 425,
   "id": "91a059f9-0ddc-484e-b3f9-ec11271e4fb5",
   "metadata": {},
   "outputs": [
    {
     "data": {
      "text/html": [
       "<div>\n",
       "<style scoped>\n",
       "    .dataframe tbody tr th:only-of-type {\n",
       "        vertical-align: middle;\n",
       "    }\n",
       "\n",
       "    .dataframe tbody tr th {\n",
       "        vertical-align: top;\n",
       "    }\n",
       "\n",
       "    .dataframe thead th {\n",
       "        text-align: right;\n",
       "    }\n",
       "</style>\n",
       "<table border=\"1\" class=\"dataframe\">\n",
       "  <thead>\n",
       "    <tr style=\"text-align: right;\">\n",
       "      <th></th>\n",
       "      <th>voter_id</th>\n",
       "      <th>age_group</th>\n",
       "      <th>gender</th>\n",
       "      <th>voted</th>\n",
       "      <th>candidate_voted_for</th>\n",
       "    </tr>\n",
       "  </thead>\n",
       "  <tbody>\n",
       "    <tr>\n",
       "      <th>0</th>\n",
       "      <td>1</td>\n",
       "      <td>18-25</td>\n",
       "      <td>Male</td>\n",
       "      <td>1</td>\n",
       "      <td>Candidate A</td>\n",
       "    </tr>\n",
       "    <tr>\n",
       "      <th>1</th>\n",
       "      <td>2</td>\n",
       "      <td>26-35</td>\n",
       "      <td>Male</td>\n",
       "      <td>1</td>\n",
       "      <td>Candidate C</td>\n",
       "    </tr>\n",
       "    <tr>\n",
       "      <th>2</th>\n",
       "      <td>3</td>\n",
       "      <td>60+</td>\n",
       "      <td>Male</td>\n",
       "      <td>1</td>\n",
       "      <td>Candidate A</td>\n",
       "    </tr>\n",
       "    <tr>\n",
       "      <th>3</th>\n",
       "      <td>4</td>\n",
       "      <td>18-25</td>\n",
       "      <td>Male</td>\n",
       "      <td>1</td>\n",
       "      <td>Candidate C</td>\n",
       "    </tr>\n",
       "    <tr>\n",
       "      <th>4</th>\n",
       "      <td>5</td>\n",
       "      <td>60+</td>\n",
       "      <td>Male</td>\n",
       "      <td>1</td>\n",
       "      <td>Candidate C</td>\n",
       "    </tr>\n",
       "  </tbody>\n",
       "</table>\n",
       "</div>"
      ],
      "text/plain": [
       "   voter_id age_group gender  voted candidate_voted_for\n",
       "0         1     18-25   Male      1         Candidate A\n",
       "1         2     26-35   Male      1         Candidate C\n",
       "2         3       60+   Male      1         Candidate A\n",
       "3         4     18-25   Male      1         Candidate C\n",
       "4         5       60+   Male      1         Candidate C"
      ]
     },
     "execution_count": 425,
     "metadata": {},
     "output_type": "execute_result"
    }
   ],
   "source": [
    "import pandas as pd\n",
    "\n",
    "# Load the dataset\n",
    "df = pd.read_csv('election.csv')\n",
    "\n",
    "df.head()\n"
   ]
  },
  {
   "cell_type": "code",
   "execution_count": 434,
   "id": "bcf1b121-f2c1-4978-b98b-9cedb277c848",
   "metadata": {},
   "outputs": [
    {
     "name": "stdout",
     "output_type": "stream",
     "text": [
      "Probability of not voting given the voter is Female: 0.2914\n",
      "Probability of not voting given the voter is Male: 0.2588\n"
     ]
    }
   ],
   "source": [
    "\n",
    "genders = ['Female', 'Male']\n",
    "\n",
    "\n",
    "for specific_gender in genders:\n",
    "    \n",
    "    gender_specific_df = gender_df[gender_df['gender'] == specific_gender]\n",
    "    total_voters_specific_gender = len(gender_specific_df)\n",
    "    non_voters_specific_gender = len(gender_specific_df[gender_specific_df['voted'] == 0])\n",
    "\n",
    "    \n",
    "    if total_voters_specific_gender > 0:\n",
    "        probability_not_voting_specific_gender = non_voters_specific_gender / total_voters_specific_gender\n",
    "    else:\n",
    "        probability_not_voting_specific_gender = 0\n",
    "\n",
    "    print(f\"Probability of not voting given the voter is {specific_gender}: {probability_not_voting_specific_gender:.4f}\")\n"
   ]
  },
  {
   "cell_type": "markdown",
   "id": "e4fa72f4-a3b7-42ef-b0e9-0e1338a90023",
   "metadata": {
    "jp-MarkdownHeadingCollapsed": true
   },
   "source": [
    "## Determine the joint probability of a customer being in the '40-50' age group and spending more than $200."
   ]
  },
  {
   "cell_type": "code",
   "execution_count": 439,
   "id": "fefa378d-8131-421b-a9c2-f9daeb30d798",
   "metadata": {},
   "outputs": [
    {
     "name": "stdout",
     "output_type": "stream",
     "text": [
      "Joint probability of being in the '40-50' age group and having voted: 0.0000\n"
     ]
    }
   ],
   "source": [
    "import pandas as pd\n",
    "\n",
    "df = pd.read_csv('election.csv')\n",
    "\n",
    "\n",
    "age_group = '40-50'\n",
    "voted_value = 1 \n",
    "\n",
    "\n",
    "age_filtered_df = df[df['age_group'] == age_group]\n",
    "\n",
    "\n",
    "joint_filtered_df = age_filtered_df[age_filtered_df['voted'] == voted_value]\n",
    "\n",
    "total_customers = len(df)\n",
    "\n",
    "joint_customers = len(joint_filtered_df)\n",
    "if total_customers > 0:\n",
    "    joint_probability = joint_customers / total_customers\n",
    "else:\n",
    "    joint_probability = 0\n",
    "\n",
    "print(f\"Joint probability of being in the '{age_group}' age group and having voted: {joint_probability:.4f}\")\n"
   ]
  },
  {
   "cell_type": "markdown",
   "id": "1c5cc5b2-d913-4947-bad6-ba8db6c89d03",
   "metadata": {},
   "source": [
    "## Calculate the conditional probability of spending more than $250 given that the customer bought a product with \"Tech\" in its name."
   ]
  },
  {
   "cell_type": "code",
   "execution_count": 440,
   "id": "d9b32346-c035-451f-9bc4-e0ab0363ee4f",
   "metadata": {},
   "outputs": [],
   "source": [
    "df=pd.read_csv('customer_purchase.csv')"
   ]
  },
  {
   "cell_type": "code",
   "execution_count": 442,
   "id": "97f37a29-c406-4146-995f-ffe2c8ddb3e6",
   "metadata": {},
   "outputs": [
    {
     "data": {
      "text/html": [
       "<div>\n",
       "<style scoped>\n",
       "    .dataframe tbody tr th:only-of-type {\n",
       "        vertical-align: middle;\n",
       "    }\n",
       "\n",
       "    .dataframe tbody tr th {\n",
       "        vertical-align: top;\n",
       "    }\n",
       "\n",
       "    .dataframe thead th {\n",
       "        text-align: right;\n",
       "    }\n",
       "</style>\n",
       "<table border=\"1\" class=\"dataframe\">\n",
       "  <thead>\n",
       "    <tr style=\"text-align: right;\">\n",
       "      <th></th>\n",
       "      <th>customer_id</th>\n",
       "      <th>age_group</th>\n",
       "      <th>product_bought</th>\n",
       "      <th>loyalty_score</th>\n",
       "      <th>amount_spent</th>\n",
       "    </tr>\n",
       "  </thead>\n",
       "  <tbody>\n",
       "    <tr>\n",
       "      <th>0</th>\n",
       "      <td>1</td>\n",
       "      <td>40-50</td>\n",
       "      <td>Ultra Camera</td>\n",
       "      <td>10</td>\n",
       "      <td>296.39</td>\n",
       "    </tr>\n",
       "    <tr>\n",
       "      <th>1</th>\n",
       "      <td>2</td>\n",
       "      <td>50-60</td>\n",
       "      <td>Power Printer</td>\n",
       "      <td>65</td>\n",
       "      <td>477.95</td>\n",
       "    </tr>\n",
       "    <tr>\n",
       "      <th>2</th>\n",
       "      <td>3</td>\n",
       "      <td>20-30</td>\n",
       "      <td>NextGen Headphones</td>\n",
       "      <td>99</td>\n",
       "      <td>109.03</td>\n",
       "    </tr>\n",
       "    <tr>\n",
       "      <th>3</th>\n",
       "      <td>4</td>\n",
       "      <td>40-50</td>\n",
       "      <td>Elite Printer</td>\n",
       "      <td>64</td>\n",
       "      <td>14.47</td>\n",
       "    </tr>\n",
       "    <tr>\n",
       "      <th>4</th>\n",
       "      <td>5</td>\n",
       "      <td>50-60</td>\n",
       "      <td>Power Speaker</td>\n",
       "      <td>88</td>\n",
       "      <td>288.34</td>\n",
       "    </tr>\n",
       "  </tbody>\n",
       "</table>\n",
       "</div>"
      ],
      "text/plain": [
       "   customer_id age_group      product_bought  loyalty_score  amount_spent\n",
       "0            1     40-50        Ultra Camera             10        296.39\n",
       "1            2     50-60       Power Printer             65        477.95\n",
       "2            3     20-30  NextGen Headphones             99        109.03\n",
       "3            4     40-50       Elite Printer             64         14.47\n",
       "4            5     50-60       Power Speaker             88        288.34"
      ]
     },
     "execution_count": 442,
     "metadata": {},
     "output_type": "execute_result"
    }
   ],
   "source": [
    "df.head()"
   ]
  },
  {
   "cell_type": "code",
   "execution_count": 446,
   "id": "9b839f8b-b5ed-4ea7-908c-f578afcd9be5",
   "metadata": {},
   "outputs": [],
   "source": [
    "count = df[(df['amount_spent'] > 250) & (df['product_bought'] == \"Tech\")].shape[0]\n"
   ]
  },
  {
   "cell_type": "code",
   "execution_count": 447,
   "id": "f45cceb7-0917-4bf9-b58b-612bd25cdb46",
   "metadata": {},
   "outputs": [
    {
     "data": {
      "text/plain": [
       "1000"
      ]
     },
     "execution_count": 447,
     "metadata": {},
     "output_type": "execute_result"
    }
   ],
   "source": [
    "len(df)"
   ]
  },
  {
   "cell_type": "code",
   "execution_count": 451,
   "id": "55ef4efe-f8a5-4ea1-b26f-c825bb89571c",
   "metadata": {},
   "outputs": [
    {
     "name": "stdout",
     "output_type": "stream",
     "text": [
      "Conditional Probability: 0.5196078431372549\n"
     ]
    }
   ],
   "source": [
    "num_spent_more_than_250_and_bought_tech = df[(df['amount_spent'] > 250) & (df['product_bought'].str.contains(\"Tech\"))].shape[0]\n",
    "num_bought_tech = df[df['product_bought'].str.contains(\"Tech\")].shape[0]\n",
    "conditional_probability = num_spent_more_than_250_and_bought_tech / num_bought_tech\n",
    "print(\"Conditional Probability:\", conditional_probability)"
   ]
  },
  {
   "cell_type": "code",
   "execution_count": null,
   "id": "a91130f9-be4f-47a4-a513-f2f552ec3687",
   "metadata": {},
   "outputs": [],
   "source": []
  }
 ],
 "metadata": {
  "kernelspec": {
   "display_name": "Python 3 (ipykernel)",
   "language": "python",
   "name": "python3"
  },
  "language_info": {
   "codemirror_mode": {
    "name": "ipython",
    "version": 3
   },
   "file_extension": ".py",
   "mimetype": "text/x-python",
   "name": "python",
   "nbconvert_exporter": "python",
   "pygments_lexer": "ipython3",
   "version": "3.12.4"
  }
 },
 "nbformat": 4,
 "nbformat_minor": 5
}
