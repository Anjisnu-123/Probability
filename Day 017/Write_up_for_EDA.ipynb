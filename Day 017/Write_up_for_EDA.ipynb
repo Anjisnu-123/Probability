{
 "cells": [
  {
   "cell_type": "markdown",
   "id": "72ea654e-d170-4e01-9f76-77aad50c2dc1",
   "metadata": {
    "jp-MarkdownHeadingCollapsed": true
   },
   "source": [
    "## How to do write up for data in EDA"
   ]
  },
  {
   "cell_type": "markdown",
   "id": "bfd7c25b-3fcf-4d94-a90f-97d6d9a068f0",
   "metadata": {},
   "source": [
    " Dependencies"
   ]
  },
  {
   "cell_type": "markdown",
   "id": "7cbe65fb-8dfc-4d4b-9fa1-275cb2f95f67",
   "metadata": {},
   "source": [
    "Read dataset"
   ]
  },
  {
   "cell_type": "markdown",
   "id": "1db0c601-c482-40b9-86eb-5eba6ebdf8cd",
   "metadata": {},
   "source": [
    "Define business case"
   ]
  },
  {
   "cell_type": "markdown",
   "id": "e1ddc2f7-1e01-4b6e-977d-3856e7f34af3",
   "metadata": {},
   "source": [
    "Variable desc:-As written in qsn"
   ]
  },
  {
   "cell_type": "markdown",
   "id": "1b2566eb-4cec-4c8a-b2e9-b05c945691be",
   "metadata": {},
   "source": [
    "Data understanding :import data and orint head"
   ]
  },
  {
   "cell_type": "markdown",
   "id": "f48cfaee-61de-430f-a0fa-843ef0ab8a63",
   "metadata": {},
   "source": [
    "overview of dataset:  cehck the str, number of rows, and columns"
   ]
  },
  {
   "cell_type": "markdown",
   "id": "2dc32ff2-0273-4a49-96ed-95bf6808b0fb",
   "metadata": {},
   "source": [
    "Check for missing values"
   ]
  },
  {
   "cell_type": "markdown",
   "id": "360e516f-b0fd-4a8c-b381-3c02adbd1e85",
   "metadata": {},
   "source": [
    "Fill missing value with aggregate value(mean/median/IQR)"
   ]
  },
  {
   "cell_type": "markdown",
   "id": "8beeb6be-9e08-487b-8280-24e7f79c9a9b",
   "metadata": {
    "jp-MarkdownHeadingCollapsed": true
   },
   "source": [
    "# Univariate analysis"
   ]
  },
  {
   "cell_type": "markdown",
   "id": "48b83c30-ac77-4dcc-b92c-0936591e8ebe",
   "metadata": {
    "jp-MarkdownHeadingCollapsed": true
   },
   "source": [
    "## Response variable\n",
    "- count plot to visualize the distribution of target column"
   ]
  },
  {
   "cell_type": "markdown",
   "id": "865e9cc4-0dda-4c4d-80b4-ab8cd025f6ad",
   "metadata": {
    "jp-MarkdownHeadingCollapsed": true
   },
   "source": [
    "## Numerical varriable plotting like histogram kde... And write conclusion"
   ]
  },
  {
   "cell_type": "raw",
   "id": "a6da8903-7566-4bf4-8876-66296cdf99bc",
   "metadata": {
    "jp-MarkdownHeadingCollapsed": true
   },
   "source": [
    "## Summary statistics for numerical variables \n",
    "- Mainly df.describe()\n",
    "- Write summary/ conclusion"
   ]
  },
  {
   "cell_type": "markdown",
   "id": "3818cbe7-081b-40a5-9c9c-c4be2a537bce",
   "metadata": {
    "jp-MarkdownHeadingCollapsed": true
   },
   "source": [
    "## Plot graphs for categorical like bar plot pie plot"
   ]
  },
  {
   "cell_type": "markdown",
   "id": "e7a033e2-1675-48a7-a912-e191a314f123",
   "metadata": {
    "jp-MarkdownHeadingCollapsed": true
   },
   "source": [
    "## Skewness and kurtosis for numerical columns\n",
    "- Write conclusion for each columns for skewnss and kurtosis\n",
    "- write overall insights for skewness and kurtosis"
   ]
  },
  {
   "cell_type": "markdown",
   "id": "493a9456-156c-411a-a291-a39f38409e19",
   "metadata": {
    "jp-MarkdownHeadingCollapsed": true
   },
   "source": [
    "## variable Binning (bucketing)\n",
    "- insights from binning"
   ]
  },
  {
   "cell_type": "markdown",
   "id": "4aa28b24-f0ca-42d4-b7a6-da1f37e9f0bf",
   "metadata": {
    "jp-MarkdownHeadingCollapsed": true
   },
   "source": [
    "# Bivariate analysis"
   ]
  },
  {
   "cell_type": "markdown",
   "id": "d6377c28-b5f9-4623-9267-c57911156e0d",
   "metadata": {},
   "source": [
    "- do all plottings\n",
    "- Write conlcusions\n",
    "- Heatmap"
   ]
  },
  {
   "cell_type": "markdown",
   "id": "8d064299-985f-4127-bf3c-2c4bec9cdf07",
   "metadata": {
    "jp-MarkdownHeadingCollapsed": true
   },
   "source": [
    "## Chi sq test also performed"
   ]
  },
  {
   "cell_type": "markdown",
   "id": "fcaafa00-2178-4eb2-aa85-0135d9927b3a",
   "metadata": {
    "jp-MarkdownHeadingCollapsed": true
   },
   "source": [
    "## perform Ttest Ztest"
   ]
  },
  {
   "cell_type": "markdown",
   "id": "0661dcf2-6763-4912-ae90-0e4d5a321d17",
   "metadata": {},
   "source": [
    "## Do non parametric test also"
   ]
  },
  {
   "cell_type": "markdown",
   "id": "b328ca1e-ba3e-46aa-a174-23ddf05ec189",
   "metadata": {
    "jp-MarkdownHeadingCollapsed": true
   },
   "source": [
    "# Multivariate anlysis\n"
   ]
  },
  {
   "cell_type": "markdown",
   "id": "803327a8-c1be-4f5d-ba40-e9cd08dcd9e8",
   "metadata": {},
   "source": [
    "- Logistic regression for feature importance\n",
    "- CLassification report overview\n",
    "- Final insight frim overall\n",
    "- investogate the feature importance to understand the collective influence of variables.\n",
    "- PCA\n",
    "- Cluster analysis (data behaviour according to that assigning diff model)\n",
    "- find optimal cluster\n",
    "- add new column named cluster assigned alloted cluster no in that!! then use those cluster find mean and analysis cluster behaviour\n",
    "- distribution of card approval within each clusters\n",
    "- INsights must for every point"
   ]
  },
  {
   "cell_type": "code",
   "execution_count": null,
   "id": "9ffad8bc-8453-48e9-b287-06a1bf89ca57",
   "metadata": {},
   "outputs": [],
   "source": []
  }
 ],
 "metadata": {
  "kernelspec": {
   "display_name": "Python 3 (ipykernel)",
   "language": "python",
   "name": "python3"
  },
  "language_info": {
   "codemirror_mode": {
    "name": "ipython",
    "version": 3
   },
   "file_extension": ".py",
   "mimetype": "text/x-python",
   "name": "python",
   "nbconvert_exporter": "python",
   "pygments_lexer": "ipython3",
   "version": "3.12.4"
  }
 },
 "nbformat": 4,
 "nbformat_minor": 5
}
